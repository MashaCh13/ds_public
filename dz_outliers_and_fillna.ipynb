{
 "cells": [
  {
   "cell_type": "code",
   "execution_count": 3,
   "metadata": {},
   "outputs": [],
   "source": [
    "import pandas as pd\n",
    "import numpy as np"
   ]
  },
  {
   "cell_type": "markdown",
   "metadata": {},
   "source": [
    "Будем осуществлять работу с непростым набором данных “horse_data.csv” о состоянии здоровья лошадей, испытывающих кишечные колики. Цель – максимально корректно заполнить пропуски.\n",
    "\n",
    "Задание 1. Загрузка данных\n",
    "Изучить представленный набор данных на основе описания его столбцов в файле “horse_data.names” , загрузить его и оставить 8 столбцов для дальнейшего изучения: surgery?, Age, rectal temperature, pulse, respiratory rate, temperature of extremities, pain, outcome.\n",
    "\n",
    "Задание 2. Первичное изучение данных\n",
    "Проанализировать значения по столбцам, рассчитать базовые статистики, найти выбросы.\n",
    "\n",
    "Задание 3. Работа с пропусками\n",
    "Рассчитать количество пропусков для всех выбранных столбцов. Принять и обосновать решение о методе заполнения пропусков по каждому столбцу на основе рассчитанных статистик и возможной взаимосвязи значений в них. Сформировать датафрейм, в котором пропуски будут отсутствовать."
   ]
  },
  {
   "cell_type": "code",
   "execution_count": 4,
   "metadata": {},
   "outputs": [],
   "source": [
    "hd = pd.read_csv('horse_data.csv', names = ['surgery?', 'Age', 'Hospital Number', 'rectal temperature', 'pulse', 'respiratory rate', 'temperature of extremities', 'peripheral pulse', 'mucous membranes', 'capillary refill time', 'pain', 'peristalsis', 'abdominal distension', 'nasogastric tube', 'nasogastric reflux', 'nasogastric reflux PH', 'rectal examination - feces', 'abdomen', 'packed cell volume', 'total protein', 'abdominocentesis appearance', 'abdomcentesis total protein', 'outcome', 'surgical lesion?', 'type of lesion_1', 'type of lesion_2', 'type of lesion_3', 'cp_data'])"
   ]
  },
  {
   "cell_type": "code",
   "execution_count": 5,
   "metadata": {},
   "outputs": [],
   "source": [
    "hd = hd[['Age', 'rectal temperature', 'respiratory rate', 'pulse', 'temperature of extremities', 'pain', 'outcome']]\\\n",
    "    .replace('?', np.nan)\\\n",
    "    .replace('', np.nan)\n",
    "hd = hd.astype({'Age': str, 'pain': str, 'outcome': str, 'pulse': float,\\\n",
    "                 'respiratory rate': float, 'temperature of extremities': float, \"rectal temperature\": float})"
   ]
  },
  {
   "cell_type": "code",
   "execution_count": 6,
   "metadata": {},
   "outputs": [
    {
     "data": {
      "text/html": [
       "<div>\n",
       "<style scoped>\n",
       "    .dataframe tbody tr th:only-of-type {\n",
       "        vertical-align: middle;\n",
       "    }\n",
       "\n",
       "    .dataframe tbody tr th {\n",
       "        vertical-align: top;\n",
       "    }\n",
       "\n",
       "    .dataframe thead th {\n",
       "        text-align: right;\n",
       "    }\n",
       "</style>\n",
       "<table border=\"1\" class=\"dataframe\">\n",
       "  <thead>\n",
       "    <tr style=\"text-align: right;\">\n",
       "      <th></th>\n",
       "      <th>Age</th>\n",
       "      <th>rectal temperature</th>\n",
       "      <th>respiratory rate</th>\n",
       "      <th>pulse</th>\n",
       "      <th>temperature of extremities</th>\n",
       "      <th>pain</th>\n",
       "      <th>outcome</th>\n",
       "    </tr>\n",
       "  </thead>\n",
       "  <tbody>\n",
       "    <tr>\n",
       "      <th>0</th>\n",
       "      <td>1</td>\n",
       "      <td>38.5</td>\n",
       "      <td>28.0</td>\n",
       "      <td>66.0</td>\n",
       "      <td>3.0</td>\n",
       "      <td>5</td>\n",
       "      <td>2</td>\n",
       "    </tr>\n",
       "    <tr>\n",
       "      <th>1</th>\n",
       "      <td>1</td>\n",
       "      <td>39.2</td>\n",
       "      <td>20.0</td>\n",
       "      <td>88.0</td>\n",
       "      <td>NaN</td>\n",
       "      <td>3</td>\n",
       "      <td>3</td>\n",
       "    </tr>\n",
       "    <tr>\n",
       "      <th>2</th>\n",
       "      <td>1</td>\n",
       "      <td>38.3</td>\n",
       "      <td>24.0</td>\n",
       "      <td>40.0</td>\n",
       "      <td>1.0</td>\n",
       "      <td>3</td>\n",
       "      <td>1</td>\n",
       "    </tr>\n",
       "  </tbody>\n",
       "</table>\n",
       "</div>"
      ],
      "text/plain": [
       "  Age  rectal temperature  respiratory rate  pulse  \\\n",
       "0   1                38.5              28.0   66.0   \n",
       "1   1                39.2              20.0   88.0   \n",
       "2   1                38.3              24.0   40.0   \n",
       "\n",
       "   temperature of extremities pain outcome  \n",
       "0                         3.0    5       2  \n",
       "1                         NaN    3       3  \n",
       "2                         1.0    3       1  "
      ]
     },
     "execution_count": 6,
     "metadata": {},
     "output_type": "execute_result"
    }
   ],
   "source": [
    "hd.head(3)"
   ]
  },
  {
   "cell_type": "code",
   "execution_count": 7,
   "metadata": {},
   "outputs": [
    {
     "data": {
      "text/html": [
       "<div>\n",
       "<style scoped>\n",
       "    .dataframe tbody tr th:only-of-type {\n",
       "        vertical-align: middle;\n",
       "    }\n",
       "\n",
       "    .dataframe tbody tr th {\n",
       "        vertical-align: top;\n",
       "    }\n",
       "\n",
       "    .dataframe thead th {\n",
       "        text-align: right;\n",
       "    }\n",
       "</style>\n",
       "<table border=\"1\" class=\"dataframe\">\n",
       "  <thead>\n",
       "    <tr style=\"text-align: right;\">\n",
       "      <th></th>\n",
       "      <th>Age</th>\n",
       "      <th>rectal temperature</th>\n",
       "      <th>respiratory rate</th>\n",
       "      <th>pulse</th>\n",
       "      <th>temperature of extremities</th>\n",
       "      <th>pain</th>\n",
       "      <th>outcome</th>\n",
       "    </tr>\n",
       "  </thead>\n",
       "  <tbody>\n",
       "    <tr>\n",
       "      <th>0</th>\n",
       "      <td>1</td>\n",
       "      <td>220</td>\n",
       "      <td>222</td>\n",
       "      <td>254</td>\n",
       "      <td>228</td>\n",
       "      <td>276</td>\n",
       "      <td>276</td>\n",
       "    </tr>\n",
       "    <tr>\n",
       "      <th>1</th>\n",
       "      <td>9</td>\n",
       "      <td>20</td>\n",
       "      <td>20</td>\n",
       "      <td>22</td>\n",
       "      <td>16</td>\n",
       "      <td>24</td>\n",
       "      <td>24</td>\n",
       "    </tr>\n",
       "  </tbody>\n",
       "</table>\n",
       "</div>"
      ],
      "text/plain": [
       "  Age  rectal temperature  respiratory rate  pulse  \\\n",
       "0   1                 220               222    254   \n",
       "1   9                  20                20     22   \n",
       "\n",
       "   temperature of extremities  pain  outcome  \n",
       "0                         228   276      276  \n",
       "1                          16    24       24  "
      ]
     },
     "execution_count": 7,
     "metadata": {},
     "output_type": "execute_result"
    }
   ],
   "source": [
    "hd.groupby('Age', as_index=False).count()"
   ]
  },
  {
   "cell_type": "markdown",
   "metadata": {},
   "source": [
    "В основном все молодые в данных. Неизвестных значений по возрасту нет."
   ]
  },
  {
   "cell_type": "code",
   "execution_count": 8,
   "metadata": {},
   "outputs": [
    {
     "data": {
      "text/html": [
       "<div>\n",
       "<style scoped>\n",
       "    .dataframe tbody tr th:only-of-type {\n",
       "        vertical-align: middle;\n",
       "    }\n",
       "\n",
       "    .dataframe tbody tr th {\n",
       "        vertical-align: top;\n",
       "    }\n",
       "\n",
       "    .dataframe thead th {\n",
       "        text-align: right;\n",
       "    }\n",
       "</style>\n",
       "<table border=\"1\" class=\"dataframe\">\n",
       "  <thead>\n",
       "    <tr style=\"text-align: right;\">\n",
       "      <th></th>\n",
       "      <th>pain</th>\n",
       "      <th>Age</th>\n",
       "      <th>rectal temperature</th>\n",
       "      <th>respiratory rate</th>\n",
       "      <th>pulse</th>\n",
       "      <th>temperature of extremities</th>\n",
       "      <th>outcome</th>\n",
       "    </tr>\n",
       "  </thead>\n",
       "  <tbody>\n",
       "    <tr>\n",
       "      <th>0</th>\n",
       "      <td>1</td>\n",
       "      <td>38</td>\n",
       "      <td>36</td>\n",
       "      <td>31</td>\n",
       "      <td>37</td>\n",
       "      <td>36</td>\n",
       "      <td>38</td>\n",
       "    </tr>\n",
       "    <tr>\n",
       "      <th>1</th>\n",
       "      <td>2</td>\n",
       "      <td>59</td>\n",
       "      <td>50</td>\n",
       "      <td>52</td>\n",
       "      <td>57</td>\n",
       "      <td>53</td>\n",
       "      <td>59</td>\n",
       "    </tr>\n",
       "    <tr>\n",
       "      <th>2</th>\n",
       "      <td>3</td>\n",
       "      <td>67</td>\n",
       "      <td>62</td>\n",
       "      <td>58</td>\n",
       "      <td>65</td>\n",
       "      <td>62</td>\n",
       "      <td>67</td>\n",
       "    </tr>\n",
       "    <tr>\n",
       "      <th>3</th>\n",
       "      <td>4</td>\n",
       "      <td>39</td>\n",
       "      <td>29</td>\n",
       "      <td>31</td>\n",
       "      <td>35</td>\n",
       "      <td>34</td>\n",
       "      <td>39</td>\n",
       "    </tr>\n",
       "    <tr>\n",
       "      <th>4</th>\n",
       "      <td>5</td>\n",
       "      <td>42</td>\n",
       "      <td>23</td>\n",
       "      <td>29</td>\n",
       "      <td>35</td>\n",
       "      <td>39</td>\n",
       "      <td>42</td>\n",
       "    </tr>\n",
       "    <tr>\n",
       "      <th>5</th>\n",
       "      <td>nan</td>\n",
       "      <td>55</td>\n",
       "      <td>40</td>\n",
       "      <td>41</td>\n",
       "      <td>47</td>\n",
       "      <td>20</td>\n",
       "      <td>55</td>\n",
       "    </tr>\n",
       "  </tbody>\n",
       "</table>\n",
       "</div>"
      ],
      "text/plain": [
       "  pain  Age  rectal temperature  respiratory rate  pulse  \\\n",
       "0    1   38                  36                31     37   \n",
       "1    2   59                  50                52     57   \n",
       "2    3   67                  62                58     65   \n",
       "3    4   39                  29                31     35   \n",
       "4    5   42                  23                29     35   \n",
       "5  nan   55                  40                41     47   \n",
       "\n",
       "   temperature of extremities  outcome  \n",
       "0                          36       38  \n",
       "1                          53       59  \n",
       "2                          62       67  \n",
       "3                          34       39  \n",
       "4                          39       42  \n",
       "5                          20       55  "
      ]
     },
     "execution_count": 8,
     "metadata": {},
     "output_type": "execute_result"
    }
   ],
   "source": [
    "hd.groupby('pain', as_index=False).count()"
   ]
  },
  {
   "cell_type": "markdown",
   "metadata": {},
   "source": [
    "Много пропущенных значений по pain, т.е. формально они заполнены, но по факту данных нет (nan)"
   ]
  },
  {
   "cell_type": "code",
   "execution_count": 9,
   "metadata": {},
   "outputs": [
    {
     "data": {
      "text/html": [
       "<div>\n",
       "<style scoped>\n",
       "    .dataframe tbody tr th:only-of-type {\n",
       "        vertical-align: middle;\n",
       "    }\n",
       "\n",
       "    .dataframe tbody tr th {\n",
       "        vertical-align: top;\n",
       "    }\n",
       "\n",
       "    .dataframe thead th {\n",
       "        text-align: right;\n",
       "    }\n",
       "</style>\n",
       "<table border=\"1\" class=\"dataframe\">\n",
       "  <thead>\n",
       "    <tr style=\"text-align: right;\">\n",
       "      <th></th>\n",
       "      <th>outcome</th>\n",
       "      <th>Age</th>\n",
       "      <th>rectal temperature</th>\n",
       "      <th>respiratory rate</th>\n",
       "      <th>pulse</th>\n",
       "      <th>temperature of extremities</th>\n",
       "      <th>pain</th>\n",
       "    </tr>\n",
       "  </thead>\n",
       "  <tbody>\n",
       "    <tr>\n",
       "      <th>0</th>\n",
       "      <td>1</td>\n",
       "      <td>178</td>\n",
       "      <td>152</td>\n",
       "      <td>147</td>\n",
       "      <td>166</td>\n",
       "      <td>146</td>\n",
       "      <td>178</td>\n",
       "    </tr>\n",
       "    <tr>\n",
       "      <th>1</th>\n",
       "      <td>2</td>\n",
       "      <td>77</td>\n",
       "      <td>53</td>\n",
       "      <td>58</td>\n",
       "      <td>66</td>\n",
       "      <td>64</td>\n",
       "      <td>77</td>\n",
       "    </tr>\n",
       "    <tr>\n",
       "      <th>2</th>\n",
       "      <td>3</td>\n",
       "      <td>44</td>\n",
       "      <td>34</td>\n",
       "      <td>36</td>\n",
       "      <td>43</td>\n",
       "      <td>33</td>\n",
       "      <td>44</td>\n",
       "    </tr>\n",
       "    <tr>\n",
       "      <th>3</th>\n",
       "      <td>nan</td>\n",
       "      <td>1</td>\n",
       "      <td>1</td>\n",
       "      <td>1</td>\n",
       "      <td>1</td>\n",
       "      <td>1</td>\n",
       "      <td>1</td>\n",
       "    </tr>\n",
       "  </tbody>\n",
       "</table>\n",
       "</div>"
      ],
      "text/plain": [
       "  outcome  Age  rectal temperature  respiratory rate  pulse  \\\n",
       "0       1  178                 152               147    166   \n",
       "1       2   77                  53                58     66   \n",
       "2       3   44                  34                36     43   \n",
       "3     nan    1                   1                 1      1   \n",
       "\n",
       "   temperature of extremities  pain  \n",
       "0                         146   178  \n",
       "1                          64    77  \n",
       "2                          33    44  \n",
       "3                           1     1  "
      ]
     },
     "execution_count": 9,
     "metadata": {},
     "output_type": "execute_result"
    }
   ],
   "source": [
    "hd.groupby('outcome', as_index=False).count()"
   ]
  },
  {
   "cell_type": "markdown",
   "metadata": {},
   "source": [
    "Все базовые статистики"
   ]
  },
  {
   "cell_type": "code",
   "execution_count": 10,
   "metadata": {},
   "outputs": [
    {
     "data": {
      "text/html": [
       "<div>\n",
       "<style scoped>\n",
       "    .dataframe tbody tr th:only-of-type {\n",
       "        vertical-align: middle;\n",
       "    }\n",
       "\n",
       "    .dataframe tbody tr th {\n",
       "        vertical-align: top;\n",
       "    }\n",
       "\n",
       "    .dataframe thead th {\n",
       "        text-align: right;\n",
       "    }\n",
       "</style>\n",
       "<table border=\"1\" class=\"dataframe\">\n",
       "  <thead>\n",
       "    <tr style=\"text-align: right;\">\n",
       "      <th></th>\n",
       "      <th>rectal temperature</th>\n",
       "      <th>respiratory rate</th>\n",
       "      <th>pulse</th>\n",
       "      <th>temperature of extremities</th>\n",
       "    </tr>\n",
       "  </thead>\n",
       "  <tbody>\n",
       "    <tr>\n",
       "      <th>count</th>\n",
       "      <td>240.000000</td>\n",
       "      <td>242.000000</td>\n",
       "      <td>276.000000</td>\n",
       "      <td>244.000000</td>\n",
       "    </tr>\n",
       "    <tr>\n",
       "      <th>mean</th>\n",
       "      <td>38.167917</td>\n",
       "      <td>30.417355</td>\n",
       "      <td>71.913043</td>\n",
       "      <td>2.348361</td>\n",
       "    </tr>\n",
       "    <tr>\n",
       "      <th>std</th>\n",
       "      <td>0.732289</td>\n",
       "      <td>17.642231</td>\n",
       "      <td>28.630557</td>\n",
       "      <td>1.045054</td>\n",
       "    </tr>\n",
       "    <tr>\n",
       "      <th>min</th>\n",
       "      <td>35.400000</td>\n",
       "      <td>8.000000</td>\n",
       "      <td>30.000000</td>\n",
       "      <td>1.000000</td>\n",
       "    </tr>\n",
       "    <tr>\n",
       "      <th>25%</th>\n",
       "      <td>37.800000</td>\n",
       "      <td>18.500000</td>\n",
       "      <td>48.000000</td>\n",
       "      <td>1.000000</td>\n",
       "    </tr>\n",
       "    <tr>\n",
       "      <th>50%</th>\n",
       "      <td>38.200000</td>\n",
       "      <td>24.500000</td>\n",
       "      <td>64.000000</td>\n",
       "      <td>3.000000</td>\n",
       "    </tr>\n",
       "    <tr>\n",
       "      <th>75%</th>\n",
       "      <td>38.500000</td>\n",
       "      <td>36.000000</td>\n",
       "      <td>88.000000</td>\n",
       "      <td>3.000000</td>\n",
       "    </tr>\n",
       "    <tr>\n",
       "      <th>max</th>\n",
       "      <td>40.800000</td>\n",
       "      <td>96.000000</td>\n",
       "      <td>184.000000</td>\n",
       "      <td>4.000000</td>\n",
       "    </tr>\n",
       "  </tbody>\n",
       "</table>\n",
       "</div>"
      ],
      "text/plain": [
       "       rectal temperature  respiratory rate       pulse  \\\n",
       "count          240.000000        242.000000  276.000000   \n",
       "mean            38.167917         30.417355   71.913043   \n",
       "std              0.732289         17.642231   28.630557   \n",
       "min             35.400000          8.000000   30.000000   \n",
       "25%             37.800000         18.500000   48.000000   \n",
       "50%             38.200000         24.500000   64.000000   \n",
       "75%             38.500000         36.000000   88.000000   \n",
       "max             40.800000         96.000000  184.000000   \n",
       "\n",
       "       temperature of extremities  \n",
       "count                  244.000000  \n",
       "mean                     2.348361  \n",
       "std                      1.045054  \n",
       "min                      1.000000  \n",
       "25%                      1.000000  \n",
       "50%                      3.000000  \n",
       "75%                      3.000000  \n",
       "max                      4.000000  "
      ]
     },
     "execution_count": 10,
     "metadata": {},
     "output_type": "execute_result"
    }
   ],
   "source": [
    "hd.describe()"
   ]
  },
  {
   "cell_type": "code",
   "execution_count": 11,
   "metadata": {},
   "outputs": [
    {
     "name": "stdout",
     "output_type": "stream",
     "text": [
      "<class 'pandas.core.frame.DataFrame'>\n",
      "RangeIndex: 300 entries, 0 to 299\n",
      "Data columns (total 7 columns):\n",
      " #   Column                      Non-Null Count  Dtype  \n",
      "---  ------                      --------------  -----  \n",
      " 0   Age                         300 non-null    object \n",
      " 1   rectal temperature          240 non-null    float64\n",
      " 2   respiratory rate            242 non-null    float64\n",
      " 3   pulse                       276 non-null    float64\n",
      " 4   temperature of extremities  244 non-null    float64\n",
      " 5   pain                        300 non-null    object \n",
      " 6   outcome                     300 non-null    object \n",
      "dtypes: float64(4), object(3)\n",
      "memory usage: 16.5+ KB\n"
     ]
    }
   ],
   "source": [
    "hd.info()"
   ]
  },
  {
   "cell_type": "markdown",
   "metadata": {},
   "source": [
    "Пропуски у нас по rectal temperature, pulse, respiratory rate, temperature of extremities"
   ]
  },
  {
   "cell_type": "code",
   "execution_count": 12,
   "metadata": {},
   "outputs": [
    {
     "data": {
      "text/plain": [
       "<Axes: >"
      ]
     },
     "execution_count": 12,
     "metadata": {},
     "output_type": "execute_result"
    },
    {
     "data": {
      "image/png": "[encoded data removed]",
      "text/plain": [
       "<Figure size 1500x900 with 1 Axes>"
      ]
     },
     "metadata": {},
     "output_type": "display_data"
    }
   ],
   "source": [
    "hd.plot.box(figsize=(15, 9))"
   ]
  },
  {
   "cell_type": "markdown",
   "metadata": {},
   "source": [
    "pulse и respiratory rate имеют левостороннее распределение и выбросы данных в сторону экстремально больших значений.\n",
    "\n",
    "Экстремально большие значения лучше вообще убрать из анализа в данном случае.\n",
    "\n",
    "А вот значения температур, на первый взгляд, казалось бы не только не имеют выбросов, но и имеют очень небольшой разброс значений.\n",
    "\n",
    "Но это может быть результатом недостаточного масштаба в сравнении со значениями pulse и respiratory rate, \n",
    "поэтому их стоит построить отдельно."
   ]
  },
  {
   "cell_type": "code",
   "execution_count": 13,
   "metadata": {},
   "outputs": [
    {
     "data": {
      "text/plain": [
       "<Axes: >"
      ]
     },
     "execution_count": 13,
     "metadata": {},
     "output_type": "execute_result"
    },
    {
     "data": {
      "image/png": "[encoded data removed]",
      "text/plain": [
       "<Figure size 640x480 with 1 Axes>"
      ]
     },
     "metadata": {},
     "output_type": "display_data"
    }
   ],
   "source": [
    "hd['rectal temperature'].plot.box()"
   ]
  },
  {
   "cell_type": "markdown",
   "metadata": {},
   "source": [
    "Выбросы данных присутствуют. Распределение нормальное с длинными хвостами. Для анализа стоит отбросить экстремумы. Но в задании этого не требовалось... "
   ]
  },
  {
   "cell_type": "code",
   "execution_count": 14,
   "metadata": {},
   "outputs": [
    {
     "data": {
      "text/plain": [
       "<Axes: >"
      ]
     },
     "execution_count": 14,
     "metadata": {},
     "output_type": "execute_result"
    },
    {
     "data": {
      "image/png": "[encoded data removed]",
      "text/plain": [
       "<Figure size 640x480 with 1 Axes>"
      ]
     },
     "metadata": {},
     "output_type": "display_data"
    }
   ],
   "source": [
    "hd['temperature of extremities'].plot.box()"
   ]
  },
  {
   "cell_type": "markdown",
   "metadata": {},
   "source": [
    "Выбросов данных в температуре конечностей нет. Ярко выраженная ассиметрия. Предположительно распределение Вейбулла. "
   ]
  },
  {
   "cell_type": "code",
   "execution_count": 16,
   "metadata": {},
   "outputs": [
    {
     "data": {
      "text/plain": [
       "Age                            0.00\n",
       "rectal temperature            20.00\n",
       "respiratory rate              19.33\n",
       "pulse                          8.00\n",
       "temperature of extremities    18.67\n",
       "pain                           0.00\n",
       "outcome                        0.00\n",
       "dtype: float64"
      ]
     },
     "execution_count": 16,
     "metadata": {},
     "output_type": "execute_result"
    }
   ],
   "source": [
    "# Процент незаполненных ячеек\n",
    "round(hd.isna().mean()*100, 2)"
   ]
  },
  {
   "cell_type": "code",
   "execution_count": 17,
   "metadata": {},
   "outputs": [
    {
     "name": "stdout",
     "output_type": "stream",
     "text": [
      "48.0, 88.0, 40.0, 148.0, -12.0\n"
     ]
    }
   ],
   "source": [
    "q1 = hd['pulse'].quantile(0.25)\n",
    "q3 = hd['pulse'].quantile(0.75)\n",
    "iqr = q3 - q1\n",
    "lower_bound = q1 - (1.5 * iqr)\n",
    "upper_bound = q3 + (1.5 * iqr)\n",
    "print(f'{q1}, {q3}, {iqr}, {upper_bound}, {lower_bound}')"
   ]
  },
  {
   "cell_type": "markdown",
   "metadata": {},
   "source": [
    "Пульс имеет левосторонее распределение и большой правый хвост. \n",
    "Соответственно, 25 квантиль находится близко к минимальным значениям.\n",
    "И при вычитании из него 1.5 iqr, получаем отрицательное значение пульса...."
   ]
  },
  {
   "cell_type": "code",
   "execution_count": 18,
   "metadata": {},
   "outputs": [
    {
     "data": {
      "text/html": [
       "<div>\n",
       "<style scoped>\n",
       "    .dataframe tbody tr th:only-of-type {\n",
       "        vertical-align: middle;\n",
       "    }\n",
       "\n",
       "    .dataframe tbody tr th {\n",
       "        vertical-align: top;\n",
       "    }\n",
       "\n",
       "    .dataframe thead th {\n",
       "        text-align: right;\n",
       "    }\n",
       "</style>\n",
       "<table border=\"1\" class=\"dataframe\">\n",
       "  <thead>\n",
       "    <tr style=\"text-align: right;\">\n",
       "      <th></th>\n",
       "      <th>Age</th>\n",
       "      <th>rectal temperature</th>\n",
       "      <th>respiratory rate</th>\n",
       "      <th>pulse</th>\n",
       "      <th>temperature of extremities</th>\n",
       "      <th>pain</th>\n",
       "      <th>outcome</th>\n",
       "    </tr>\n",
       "  </thead>\n",
       "  <tbody>\n",
       "    <tr>\n",
       "      <th>0</th>\n",
       "      <td>1</td>\n",
       "      <td>38.5</td>\n",
       "      <td>28.0</td>\n",
       "      <td>66.0</td>\n",
       "      <td>3.0</td>\n",
       "      <td>5</td>\n",
       "      <td>2</td>\n",
       "    </tr>\n",
       "    <tr>\n",
       "      <th>1</th>\n",
       "      <td>1</td>\n",
       "      <td>39.2</td>\n",
       "      <td>20.0</td>\n",
       "      <td>88.0</td>\n",
       "      <td>NaN</td>\n",
       "      <td>3</td>\n",
       "      <td>3</td>\n",
       "    </tr>\n",
       "    <tr>\n",
       "      <th>2</th>\n",
       "      <td>1</td>\n",
       "      <td>38.3</td>\n",
       "      <td>24.0</td>\n",
       "      <td>40.0</td>\n",
       "      <td>1.0</td>\n",
       "      <td>3</td>\n",
       "      <td>1</td>\n",
       "    </tr>\n",
       "  </tbody>\n",
       "</table>\n",
       "</div>"
      ],
      "text/plain": [
       "  Age  rectal temperature  respiratory rate  pulse  \\\n",
       "0   1                38.5              28.0   66.0   \n",
       "1   1                39.2              20.0   88.0   \n",
       "2   1                38.3              24.0   40.0   \n",
       "\n",
       "   temperature of extremities pain outcome  \n",
       "0                         3.0    5       2  \n",
       "1                         NaN    3       3  \n",
       "2                         1.0    3       1  "
      ]
     },
     "execution_count": 18,
     "metadata": {},
     "output_type": "execute_result"
    }
   ],
   "source": [
    "hd.head(3)"
   ]
  },
  {
   "cell_type": "code",
   "execution_count": 19,
   "metadata": {},
   "outputs": [
    {
     "name": "stdout",
     "output_type": "stream",
     "text": [
      "64.0\n",
      "71.91304347826087\n",
      "Age\n",
      "1     60.0\n",
      "9    124.0\n",
      "Name: pulse, dtype: float64\n",
      "Age\n",
      "1     67.456693\n",
      "9    123.363636\n",
      "Name: pulse, dtype: float64\n",
      "outcome\n",
      "1      54.0\n",
      "2      86.0\n",
      "3      82.0\n",
      "nan    48.0\n",
      "Name: pulse, dtype: float64\n",
      "outcome\n",
      "1      63.421687\n",
      "2      87.227273\n",
      "3      81.744186\n",
      "nan    48.000000\n",
      "Name: pulse, dtype: float64\n",
      "pain\n",
      "1      48.0\n",
      "2      78.0\n",
      "3      60.0\n",
      "4      80.0\n",
      "5      88.0\n",
      "nan    60.0\n",
      "Name: pulse, dtype: float64\n",
      "pain\n",
      "1      50.081081\n",
      "2      80.859649\n",
      "3      63.876923\n",
      "4      82.657143\n",
      "5      87.114286\n",
      "nan    70.042553\n",
      "Name: pulse, dtype: float64\n"
     ]
    }
   ],
   "source": [
    "print(hd['pulse'].median())\n",
    "print(hd['pulse'].mean())\n",
    "print(hd.groupby('Age')['pulse'].median())\n",
    "print(hd.groupby('Age')['pulse'].mean())\n",
    "print(hd.groupby('outcome')['pulse'].median())\n",
    "print(hd.groupby('outcome')['pulse'].mean())\n",
    "print(hd.groupby('pain')['pulse'].median())\n",
    "print(hd.groupby('pain')['pulse'].mean())"
   ]
  },
  {
   "cell_type": "code",
   "execution_count": 20,
   "metadata": {},
   "outputs": [
    {
     "name": "stdout",
     "output_type": "stream",
     "text": [
      "3.0\n",
      "2.348360655737705\n",
      "Age\n",
      "1    3.0\n",
      "9    2.5\n",
      "Name: temperature of extremities, dtype: float64\n",
      "Age\n",
      "1    2.364035\n",
      "9    2.125000\n",
      "Name: temperature of extremities, dtype: float64\n",
      "outcome\n",
      "1      2.0\n",
      "2      3.0\n",
      "3      3.0\n",
      "nan    3.0\n",
      "Name: temperature of extremities, dtype: float64\n",
      "outcome\n",
      "1      2.034247\n",
      "2      2.750000\n",
      "3      2.939394\n",
      "nan    3.000000\n",
      "Name: temperature of extremities, dtype: float64\n",
      "pain\n",
      "1      1.5\n",
      "2      3.0\n",
      "3      2.0\n",
      "4      3.0\n",
      "5      3.0\n",
      "nan    3.0\n",
      "Name: temperature of extremities, dtype: float64\n",
      "pain\n",
      "1      1.694444\n",
      "2      2.490566\n",
      "3      2.080645\n",
      "4      2.617647\n",
      "5      2.820513\n",
      "nan    2.600000\n",
      "Name: temperature of extremities, dtype: float64\n"
     ]
    }
   ],
   "source": [
    "print(hd['temperature of extremities'].median())\n",
    "print(hd['temperature of extremities'].mean())\n",
    "print(hd.groupby('Age')['temperature of extremities'].median())\n",
    "print(hd.groupby('Age')['temperature of extremities'].mean())\n",
    "print(hd.groupby('outcome')['temperature of extremities'].median())\n",
    "print(hd.groupby('outcome')['temperature of extremities'].mean())\n",
    "print(hd.groupby('pain')['temperature of extremities'].median())\n",
    "print(hd.groupby('pain')['temperature of extremities'].mean())"
   ]
  },
  {
   "cell_type": "code",
   "execution_count": 21,
   "metadata": {},
   "outputs": [
    {
     "name": "stdout",
     "output_type": "stream",
     "text": [
      "38.2\n",
      "38.16791666666667\n",
      "Age\n",
      "1    38.1\n",
      "9    38.6\n",
      "Name: rectal temperature, dtype: float64\n",
      "Age\n",
      "1    38.124545\n",
      "9    38.645000\n",
      "Name: rectal temperature, dtype: float64\n",
      "outcome\n",
      "1      38.20\n",
      "2      38.10\n",
      "3      38.05\n",
      "nan    38.00\n",
      "Name: rectal temperature, dtype: float64\n",
      "outcome\n",
      "1      38.190789\n",
      "2      38.179245\n",
      "3      38.052941\n",
      "nan    38.000000\n",
      "Name: rectal temperature, dtype: float64\n",
      "pain\n",
      "1      38.20\n",
      "2      38.30\n",
      "3      38.15\n",
      "4      38.00\n",
      "5      38.00\n",
      "nan    38.20\n",
      "Name: rectal temperature, dtype: float64\n",
      "pain\n",
      "1      38.094444\n",
      "2      38.452000\n",
      "3      38.100000\n",
      "4      37.931034\n",
      "5      38.165217\n",
      "nan    38.157500\n",
      "Name: rectal temperature, dtype: float64\n"
     ]
    }
   ],
   "source": [
    "print(hd['rectal temperature'].median())\n",
    "print(hd['rectal temperature'].mean())\n",
    "print(hd.groupby('Age')['rectal temperature'].median())\n",
    "print(hd.groupby('Age')['rectal temperature'].mean())\n",
    "print(hd.groupby('outcome')['rectal temperature'].median())\n",
    "print(hd.groupby('outcome')['rectal temperature'].mean())\n",
    "print(hd.groupby('pain')['rectal temperature'].median())\n",
    "print(hd.groupby('pain')['rectal temperature'].mean())"
   ]
  },
  {
   "cell_type": "code",
   "execution_count": 22,
   "metadata": {},
   "outputs": [
    {
     "name": "stdout",
     "output_type": "stream",
     "text": [
      "24.5\n",
      "30.417355371900825\n",
      "Age\n",
      "1    24.0\n",
      "9    49.0\n",
      "Name: respiratory rate, dtype: float64\n",
      "Age\n",
      "1    28.238739\n",
      "9    54.600000\n",
      "Name: respiratory rate, dtype: float64\n",
      "outcome\n",
      "1      24.0\n",
      "2      30.0\n",
      "3      24.0\n",
      "nan    20.0\n",
      "Name: respiratory rate, dtype: float64\n",
      "outcome\n",
      "1      29.278912\n",
      "2      33.034483\n",
      "3      31.138889\n",
      "nan    20.000000\n",
      "Name: respiratory rate, dtype: float64\n",
      "pain\n",
      "1      20.0\n",
      "2      32.0\n",
      "3      24.0\n",
      "4      30.0\n",
      "5      30.0\n",
      "nan    28.0\n",
      "Name: respiratory rate, dtype: float64\n",
      "pain\n",
      "1      21.419355\n",
      "2      33.192308\n",
      "3      27.775862\n",
      "4      31.967742\n",
      "5      31.620690\n",
      "nan    35.414634\n",
      "Name: respiratory rate, dtype: float64\n"
     ]
    }
   ],
   "source": [
    "print(hd['respiratory rate'].median())\n",
    "print(hd['respiratory rate'].mean())\n",
    "print(hd.groupby('Age')['respiratory rate'].median())\n",
    "print(hd.groupby('Age')['respiratory rate'].mean())\n",
    "print(hd.groupby('outcome')['respiratory rate'].median())\n",
    "print(hd.groupby('outcome')['respiratory rate'].mean())\n",
    "print(hd.groupby('pain')['respiratory rate'].median())\n",
    "print(hd.groupby('pain')['respiratory rate'].mean())"
   ]
  },
  {
   "cell_type": "code",
   "execution_count": 23,
   "metadata": {},
   "outputs": [
    {
     "name": "stdout",
     "output_type": "stream",
     "text": [
      "['5' '3' '2' 'nan' '4' '1'] ['2' '3' '1' 'nan']\n"
     ]
    }
   ],
   "source": [
    "print(hd.pain.unique(), hd.outcome.unique())"
   ]
  },
  {
   "cell_type": "markdown",
   "metadata": {},
   "source": [
    "При заполнении пропусков, необходимо было выбрать на какие атрибуты ориентироваться.\n",
    "Несмотря на то, что pain и outcome формально не имеют пропусков. Значение nan по сути является пропуском.\n",
    "Насколько рационально ориентироваться на него вопрос больше профессиональный. \n",
    "Я решила все-таки использовать эти столбцы для заполнения пропусков, так как разброс по группам \n",
    "достаточно большой."
   ]
  },
  {
   "cell_type": "markdown",
   "metadata": {},
   "source": [
    "По идее для заполнения всех пропусков в этих данных лучше брать медиану, но для разнообразнию заполним rectal temperature средним значением, так как оно близко к нормальному. В реальных данных можно было бы еще проверить характер распределение значений в группах прежде чем заполнять средним, построить графики, но мне не охото...."
   ]
  },
  {
   "cell_type": "markdown",
   "metadata": {},
   "source": [
    "Сильное левое смещение в столбце pulse, поэтому лучше не брать среднее, \n",
    "т.к. выбросы мы так и не убрали,\n",
    "соответсвенно заполним пропуски медианой по возрасту"
   ]
  },
  {
   "cell_type": "code",
   "execution_count": 24,
   "metadata": {},
   "outputs": [],
   "source": [
    "fill_median_hd = hd.copy()\n",
    "fill_median_hd['pulse'] = fill_median_hd['pulse'].fillna(hd.groupby(['Age', 'outcome', 'pain'])['pulse'].transform('median'))\n",
    "fill_median_hd['respiratory rate'] = fill_median_hd['respiratory rate']\\\n",
    "    .fillna(fill_median_hd.groupby('Age')['respiratory rate'].transform('median'))\n",
    "fill_median_hd['temperature of extremities'] = fill_median_hd['temperature of extremities']\\\n",
    "    .fillna(fill_median_hd.groupby(['Age', 'outcome'])['temperature of extremities'].transform('median'))\n",
    "fill_median_hd['rectal temperature'] = fill_median_hd['rectal temperature']\\\n",
    "    .fillna(fill_median_hd.groupby(['Age', 'outcome'])['rectal temperature'].transform('mean'))"
   ]
  },
  {
   "cell_type": "code",
   "execution_count": 25,
   "metadata": {},
   "outputs": [
    {
     "name": "stdout",
     "output_type": "stream",
     "text": [
      "<class 'pandas.core.frame.DataFrame'>\n",
      "RangeIndex: 300 entries, 0 to 299\n",
      "Data columns (total 7 columns):\n",
      " #   Column                      Non-Null Count  Dtype  \n",
      "---  ------                      --------------  -----  \n",
      " 0   Age                         300 non-null    object \n",
      " 1   rectal temperature          300 non-null    float64\n",
      " 2   respiratory rate            300 non-null    float64\n",
      " 3   pulse                       300 non-null    float64\n",
      " 4   temperature of extremities  300 non-null    float64\n",
      " 5   pain                        300 non-null    object \n",
      " 6   outcome                     300 non-null    object \n",
      "dtypes: float64(4), object(3)\n",
      "memory usage: 16.5+ KB\n"
     ]
    }
   ],
   "source": [
    "fill_median_hd.info()"
   ]
  },
  {
   "cell_type": "code",
   "execution_count": 26,
   "metadata": {},
   "outputs": [
    {
     "data": {
      "text/html": [
       "<div>\n",
       "<style scoped>\n",
       "    .dataframe tbody tr th:only-of-type {\n",
       "        vertical-align: middle;\n",
       "    }\n",
       "\n",
       "    .dataframe tbody tr th {\n",
       "        vertical-align: top;\n",
       "    }\n",
       "\n",
       "    .dataframe thead th {\n",
       "        text-align: right;\n",
       "    }\n",
       "</style>\n",
       "<table border=\"1\" class=\"dataframe\">\n",
       "  <thead>\n",
       "    <tr style=\"text-align: right;\">\n",
       "      <th></th>\n",
       "      <th>Age</th>\n",
       "      <th>rectal temperature</th>\n",
       "      <th>respiratory rate</th>\n",
       "      <th>pulse</th>\n",
       "      <th>temperature of extremities</th>\n",
       "      <th>pain</th>\n",
       "      <th>outcome</th>\n",
       "    </tr>\n",
       "  </thead>\n",
       "  <tbody>\n",
       "  </tbody>\n",
       "</table>\n",
       "</div>"
      ],
      "text/plain": [
       "Empty DataFrame\n",
       "Columns: [Age, rectal temperature, respiratory rate, pulse, temperature of extremities, pain, outcome]\n",
       "Index: []"
      ]
     },
     "execution_count": 26,
     "metadata": {},
     "output_type": "execute_result"
    }
   ],
   "source": [
    "# строка для проверки строк с null значениями\n",
    "\n",
    "fill_median_hd[fill_median_hd.isna().any(axis=1)]"
   ]
  },
  {
   "cell_type": "markdown",
   "metadata": {},
   "source": [
    "Чтобы хотелось сказать, в итоге не получилось заполнить все пропуски ориентируясь на группировку по всем атрибутам.\n",
    "Почему? Потому что не для каждой комбинации атрибутов существовала медиана/среднее. pain имел достаточно большое количество nan.\n",
    "Соответственно для заполнения всех столбцов кроме pulse его пришлось игнорировать.\n",
    "Вообщем в теории мы можем собираться сделать одним способ, а на практике выйдет совсем не так как мы планировали...."
   ]
  }
 ],
 "metadata": {
  "kernelspec": {
   "display_name": "Python 3",
   "language": "python",
   "name": "python3"
  },
  "language_info": {
   "codemirror_mode": {
    "name": "ipython",
    "version": 3
   },
   "file_extension": ".py",
   "mimetype": "text/x-python",
   "name": "python",
   "nbconvert_exporter": "python",
   "pygments_lexer": "ipython3",
   "version": "3.13.2"
  }
 },
 "nbformat": 4,
 "nbformat_minor": 2
}
