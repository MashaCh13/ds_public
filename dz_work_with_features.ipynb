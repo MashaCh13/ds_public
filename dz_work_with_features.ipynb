{
 "cells": [
  {
   "cell_type": "code",
   "execution_count": 76,
   "id": "54ead2bd",
   "metadata": {},
   "outputs": [],
   "source": [
    "import pandas as pd\n",
    "import numpy as np\n",
    "import seaborn as sns\n",
    " \n",
    "from matplotlib import pyplot as plt\n",
    " \n",
    "from sklearn.linear_model import LinearRegression\n",
    "from sklearn.linear_model import LogisticRegression\n",
    "from sklearn.model_selection import train_test_split\n",
    "from sklearn.datasets import fetch_california_housing\n",
    "from sklearn.metrics import mean_squared_error, r2_score"
   ]
  },
  {
   "cell_type": "code",
   "execution_count": 5,
   "id": "36970773",
   "metadata": {},
   "outputs": [
    {
     "data": {
      "text/html": [
       "<div>\n",
       "<style scoped>\n",
       "    .dataframe tbody tr th:only-of-type {\n",
       "        vertical-align: middle;\n",
       "    }\n",
       "\n",
       "    .dataframe tbody tr th {\n",
       "        vertical-align: top;\n",
       "    }\n",
       "\n",
       "    .dataframe thead th {\n",
       "        text-align: right;\n",
       "    }\n",
       "</style>\n",
       "<table border=\"1\" class=\"dataframe\">\n",
       "  <thead>\n",
       "    <tr style=\"text-align: right;\">\n",
       "      <th></th>\n",
       "      <th>MedInc</th>\n",
       "      <th>HouseAge</th>\n",
       "      <th>AveRooms</th>\n",
       "      <th>AveBedrms</th>\n",
       "      <th>Population</th>\n",
       "      <th>AveOccup</th>\n",
       "      <th>Latitude</th>\n",
       "      <th>Longitude</th>\n",
       "      <th>MedHouseVal</th>\n",
       "    </tr>\n",
       "  </thead>\n",
       "  <tbody>\n",
       "    <tr>\n",
       "      <th>0</th>\n",
       "      <td>8.3252</td>\n",
       "      <td>41.0</td>\n",
       "      <td>6.984127</td>\n",
       "      <td>1.023810</td>\n",
       "      <td>322.0</td>\n",
       "      <td>2.555556</td>\n",
       "      <td>37.88</td>\n",
       "      <td>-122.23</td>\n",
       "      <td>4.526</td>\n",
       "    </tr>\n",
       "    <tr>\n",
       "      <th>1</th>\n",
       "      <td>8.3014</td>\n",
       "      <td>21.0</td>\n",
       "      <td>6.238137</td>\n",
       "      <td>0.971880</td>\n",
       "      <td>2401.0</td>\n",
       "      <td>2.109842</td>\n",
       "      <td>37.86</td>\n",
       "      <td>-122.22</td>\n",
       "      <td>3.585</td>\n",
       "    </tr>\n",
       "    <tr>\n",
       "      <th>2</th>\n",
       "      <td>7.2574</td>\n",
       "      <td>52.0</td>\n",
       "      <td>8.288136</td>\n",
       "      <td>1.073446</td>\n",
       "      <td>496.0</td>\n",
       "      <td>2.802260</td>\n",
       "      <td>37.85</td>\n",
       "      <td>-122.24</td>\n",
       "      <td>3.521</td>\n",
       "    </tr>\n",
       "  </tbody>\n",
       "</table>\n",
       "</div>"
      ],
      "text/plain": [
       "   MedInc  HouseAge  AveRooms  AveBedrms  Population  AveOccup  Latitude  \\\n",
       "0  8.3252      41.0  6.984127   1.023810       322.0  2.555556     37.88   \n",
       "1  8.3014      21.0  6.238137   0.971880      2401.0  2.109842     37.86   \n",
       "2  7.2574      52.0  8.288136   1.073446       496.0  2.802260     37.85   \n",
       "\n",
       "   Longitude  MedHouseVal  \n",
       "0    -122.23        4.526  \n",
       "1    -122.22        3.585  \n",
       "2    -122.24        3.521  "
      ]
     },
     "execution_count": 5,
     "metadata": {},
     "output_type": "execute_result"
    }
   ],
   "source": [
    "housing = fetch_california_housing(as_frame=True).frame\n",
    "housing.head(3)"
   ]
  },
  {
   "cell_type": "code",
   "execution_count": 83,
   "id": "7235d32c",
   "metadata": {},
   "outputs": [
    {
     "name": "stdout",
     "output_type": "stream",
     "text": [
      ".. _california_housing_dataset:\n",
      "\n",
      "California Housing dataset\n",
      "--------------------------\n",
      "\n",
      "**Data Set Characteristics:**\n",
      "\n",
      ":Number of Instances: 20640\n",
      "\n",
      ":Number of Attributes: 8 numeric, predictive attributes and the target\n",
      "\n",
      ":Attribute Information:\n",
      "    - MedInc        median income in block group\n",
      "    - HouseAge      median house age in block group\n",
      "    - AveRooms      average number of rooms per household\n",
      "    - AveBedrms     average number of bedrooms per household\n",
      "    - Population    block group population\n",
      "    - AveOccup      average number of household members\n",
      "    - Latitude      block group latitude\n",
      "    - Longitude     block group longitude\n",
      "\n",
      ":Missing Attribute Values: None\n",
      "\n",
      "This dataset was obtained from the StatLib repository.\n",
      "https://www.dcc.fc.up.pt/~ltorgo/Regression/cal_housing.html\n",
      "\n",
      "The target variable is the median house value for California districts,\n",
      "expressed in hundreds of thousands of dollars ($100,000).\n",
      "\n",
      "This dataset was derived from the 1990 U.S. census, using one row per census\n",
      "block group. A block group is the smallest geographical unit for which the U.S.\n",
      "Census Bureau publishes sample data (a block group typically has a population\n",
      "of 600 to 3,000 people).\n",
      "\n",
      "A household is a group of people residing within a home. Since the average\n",
      "number of rooms and bedrooms in this dataset are provided per household, these\n",
      "columns may take surprisingly large values for block groups with few households\n",
      "and many empty houses, such as vacation resorts.\n",
      "\n",
      "It can be downloaded/loaded using the\n",
      ":func:`sklearn.datasets.fetch_california_housing` function.\n",
      "\n",
      ".. rubric:: References\n",
      "\n",
      "- Pace, R. Kelley and Ronald Barry, Sparse Spatial Autoregressions,\n",
      "  Statistics and Probability Letters, 33 (1997) 291-297\n",
      "\n"
     ]
    }
   ],
   "source": [
    "print(fetch_california_housing().DESCR)"
   ]
  },
  {
   "cell_type": "code",
   "execution_count": 7,
   "id": "b9f7783f",
   "metadata": {},
   "outputs": [
    {
     "data": {
      "text/plain": [
       "(20640, 9)"
      ]
     },
     "execution_count": 7,
     "metadata": {},
     "output_type": "execute_result"
    }
   ],
   "source": [
    "housing.shape"
   ]
  },
  {
   "cell_type": "code",
   "execution_count": 8,
   "id": "83a3d796",
   "metadata": {},
   "outputs": [
    {
     "name": "stdout",
     "output_type": "stream",
     "text": [
      "<class 'pandas.core.frame.DataFrame'>\n",
      "RangeIndex: 20640 entries, 0 to 20639\n",
      "Data columns (total 9 columns):\n",
      " #   Column       Non-Null Count  Dtype  \n",
      "---  ------       --------------  -----  \n",
      " 0   MedInc       20640 non-null  float64\n",
      " 1   HouseAge     20640 non-null  float64\n",
      " 2   AveRooms     20640 non-null  float64\n",
      " 3   AveBedrms    20640 non-null  float64\n",
      " 4   Population   20640 non-null  float64\n",
      " 5   AveOccup     20640 non-null  float64\n",
      " 6   Latitude     20640 non-null  float64\n",
      " 7   Longitude    20640 non-null  float64\n",
      " 8   MedHouseVal  20640 non-null  float64\n",
      "dtypes: float64(9)\n",
      "memory usage: 1.4 MB\n"
     ]
    }
   ],
   "source": [
    "housing.info()"
   ]
  },
  {
   "cell_type": "code",
   "execution_count": 9,
   "id": "bc1d669b",
   "metadata": {},
   "outputs": [
    {
     "data": {
      "text/html": [
       "<div>\n",
       "<style scoped>\n",
       "    .dataframe tbody tr th:only-of-type {\n",
       "        vertical-align: middle;\n",
       "    }\n",
       "\n",
       "    .dataframe tbody tr th {\n",
       "        vertical-align: top;\n",
       "    }\n",
       "\n",
       "    .dataframe thead th {\n",
       "        text-align: right;\n",
       "    }\n",
       "</style>\n",
       "<table border=\"1\" class=\"dataframe\">\n",
       "  <thead>\n",
       "    <tr style=\"text-align: right;\">\n",
       "      <th></th>\n",
       "      <th>count</th>\n",
       "      <th>mean</th>\n",
       "      <th>std</th>\n",
       "      <th>min</th>\n",
       "      <th>25%</th>\n",
       "      <th>50%</th>\n",
       "      <th>75%</th>\n",
       "      <th>max</th>\n",
       "    </tr>\n",
       "  </thead>\n",
       "  <tbody>\n",
       "    <tr>\n",
       "      <th>MedInc</th>\n",
       "      <td>20640.0</td>\n",
       "      <td>3.870671</td>\n",
       "      <td>1.899822</td>\n",
       "      <td>0.499900</td>\n",
       "      <td>2.563400</td>\n",
       "      <td>3.534800</td>\n",
       "      <td>4.743250</td>\n",
       "      <td>15.000100</td>\n",
       "    </tr>\n",
       "    <tr>\n",
       "      <th>HouseAge</th>\n",
       "      <td>20640.0</td>\n",
       "      <td>28.639486</td>\n",
       "      <td>12.585558</td>\n",
       "      <td>1.000000</td>\n",
       "      <td>18.000000</td>\n",
       "      <td>29.000000</td>\n",
       "      <td>37.000000</td>\n",
       "      <td>52.000000</td>\n",
       "    </tr>\n",
       "    <tr>\n",
       "      <th>AveRooms</th>\n",
       "      <td>20640.0</td>\n",
       "      <td>5.429000</td>\n",
       "      <td>2.474173</td>\n",
       "      <td>0.846154</td>\n",
       "      <td>4.440716</td>\n",
       "      <td>5.229129</td>\n",
       "      <td>6.052381</td>\n",
       "      <td>141.909091</td>\n",
       "    </tr>\n",
       "    <tr>\n",
       "      <th>AveBedrms</th>\n",
       "      <td>20640.0</td>\n",
       "      <td>1.096675</td>\n",
       "      <td>0.473911</td>\n",
       "      <td>0.333333</td>\n",
       "      <td>1.006079</td>\n",
       "      <td>1.048780</td>\n",
       "      <td>1.099526</td>\n",
       "      <td>34.066667</td>\n",
       "    </tr>\n",
       "    <tr>\n",
       "      <th>Population</th>\n",
       "      <td>20640.0</td>\n",
       "      <td>1425.476744</td>\n",
       "      <td>1132.462122</td>\n",
       "      <td>3.000000</td>\n",
       "      <td>787.000000</td>\n",
       "      <td>1166.000000</td>\n",
       "      <td>1725.000000</td>\n",
       "      <td>35682.000000</td>\n",
       "    </tr>\n",
       "    <tr>\n",
       "      <th>AveOccup</th>\n",
       "      <td>20640.0</td>\n",
       "      <td>3.070655</td>\n",
       "      <td>10.386050</td>\n",
       "      <td>0.692308</td>\n",
       "      <td>2.429741</td>\n",
       "      <td>2.818116</td>\n",
       "      <td>3.282261</td>\n",
       "      <td>1243.333333</td>\n",
       "    </tr>\n",
       "    <tr>\n",
       "      <th>Latitude</th>\n",
       "      <td>20640.0</td>\n",
       "      <td>35.631861</td>\n",
       "      <td>2.135952</td>\n",
       "      <td>32.540000</td>\n",
       "      <td>33.930000</td>\n",
       "      <td>34.260000</td>\n",
       "      <td>37.710000</td>\n",
       "      <td>41.950000</td>\n",
       "    </tr>\n",
       "    <tr>\n",
       "      <th>Longitude</th>\n",
       "      <td>20640.0</td>\n",
       "      <td>-119.569704</td>\n",
       "      <td>2.003532</td>\n",
       "      <td>-124.350000</td>\n",
       "      <td>-121.800000</td>\n",
       "      <td>-118.490000</td>\n",
       "      <td>-118.010000</td>\n",
       "      <td>-114.310000</td>\n",
       "    </tr>\n",
       "    <tr>\n",
       "      <th>MedHouseVal</th>\n",
       "      <td>20640.0</td>\n",
       "      <td>2.068558</td>\n",
       "      <td>1.153956</td>\n",
       "      <td>0.149990</td>\n",
       "      <td>1.196000</td>\n",
       "      <td>1.797000</td>\n",
       "      <td>2.647250</td>\n",
       "      <td>5.000010</td>\n",
       "    </tr>\n",
       "  </tbody>\n",
       "</table>\n",
       "</div>"
      ],
      "text/plain": [
       "               count         mean          std         min         25%  \\\n",
       "MedInc       20640.0     3.870671     1.899822    0.499900    2.563400   \n",
       "HouseAge     20640.0    28.639486    12.585558    1.000000   18.000000   \n",
       "AveRooms     20640.0     5.429000     2.474173    0.846154    4.440716   \n",
       "AveBedrms    20640.0     1.096675     0.473911    0.333333    1.006079   \n",
       "Population   20640.0  1425.476744  1132.462122    3.000000  787.000000   \n",
       "AveOccup     20640.0     3.070655    10.386050    0.692308    2.429741   \n",
       "Latitude     20640.0    35.631861     2.135952   32.540000   33.930000   \n",
       "Longitude    20640.0  -119.569704     2.003532 -124.350000 -121.800000   \n",
       "MedHouseVal  20640.0     2.068558     1.153956    0.149990    1.196000   \n",
       "\n",
       "                     50%          75%           max  \n",
       "MedInc          3.534800     4.743250     15.000100  \n",
       "HouseAge       29.000000    37.000000     52.000000  \n",
       "AveRooms        5.229129     6.052381    141.909091  \n",
       "AveBedrms       1.048780     1.099526     34.066667  \n",
       "Population   1166.000000  1725.000000  35682.000000  \n",
       "AveOccup        2.818116     3.282261   1243.333333  \n",
       "Latitude       34.260000    37.710000     41.950000  \n",
       "Longitude    -118.490000  -118.010000   -114.310000  \n",
       "MedHouseVal     1.797000     2.647250      5.000010  "
      ]
     },
     "execution_count": 9,
     "metadata": {},
     "output_type": "execute_result"
    }
   ],
   "source": [
    "housing.describe().T"
   ]
  },
  {
   "cell_type": "code",
   "execution_count": null,
   "id": "aabe9dd7",
   "metadata": {},
   "outputs": [],
   "source": [
    "def getMetrics(X, y, random_seed=42, model=None, test_size=0.2):\n",
    "    if model is None:\n",
    "        model = LinearRegression()\n",
    "    X_train, X_test, y_train, y_test = train_test_split(X, y, test_size=test_size, random_state=random_seed)\n",
    "    model.fit(X_train, y_train)\n",
    "    y_pred_train = model.predict(X_train)\n",
    "    y_pred_test = model.predict(X_test)\n",
    "    rmse_train = np.sqrt(mean_squared_error(y_train, y_pred_train))\n",
    "    r2_train = r2_score(y_train, y_pred_train)\n",
    "    rmse_test = np.sqrt(mean_squared_error(y_test, y_pred_test))\n",
    "    r2_test = r2_score(y_test, y_pred_test)\n",
    "\n",
    "    print(rmse_train, r2_train, rmse_test, r2_test)"
   ]
  },
  {
   "cell_type": "code",
   "execution_count": 31,
   "id": "73ad8b97",
   "metadata": {},
   "outputs": [
    {
     "name": "stdout",
     "output_type": "stream",
     "text": [
      "0.7196757085831575 0.6125511913966952 0.7455813830127761 0.5757877060324511\n"
     ]
    }
   ],
   "source": [
    "X = housing.loc[:, housing.columns != \"MedHouseVal\"]\n",
    "y = housing[[\"MedHouseVal\"]]\n",
    "getMetrics(X, y)"
   ]
  },
  {
   "cell_type": "code",
   "execution_count": null,
   "id": "d1bfd0dc",
   "metadata": {},
   "outputs": [
    {
     "data": {
      "text/plain": [
       "<Axes: ylabel='MedInc'>"
      ]
     },
     "execution_count": 16,
     "metadata": {},
     "output_type": "execute_result"
    },
    {
     "data": {
      "image/png": "[encoded data removed]",
      "text/plain": [
       "<Figure size 640x480 with 1 Axes>"
      ]
     },
     "metadata": {},
     "output_type": "display_data"
    }
   ],
   "source": [
    "sns.boxplot(housing['MedInc'])"
   ]
  },
  {
   "cell_type": "code",
   "execution_count": 23,
   "id": "e080ec94",
   "metadata": {},
   "outputs": [
    {
     "data": {
      "text/plain": [
       "<Axes: ylabel='HouseAge'>"
      ]
     },
     "execution_count": 23,
     "metadata": {},
     "output_type": "execute_result"
    },
    {
     "data": {
      "image/png": "[encoded data removed]",
      "text/plain": [
       "<Figure size 640x480 with 1 Axes>"
      ]
     },
     "metadata": {},
     "output_type": "display_data"
    }
   ],
   "source": [
    "sns.boxplot(housing['HouseAge'])"
   ]
  },
  {
   "cell_type": "code",
   "execution_count": 22,
   "id": "d23a87d6",
   "metadata": {},
   "outputs": [
    {
     "data": {
      "text/plain": [
       "<Axes: ylabel='Population'>"
      ]
     },
     "execution_count": 22,
     "metadata": {},
     "output_type": "execute_result"
    },
    {
     "data": {
      "image/png": "[encoded data removed]",
      "text/plain": [
       "<Figure size 640x480 with 1 Axes>"
      ]
     },
     "metadata": {},
     "output_type": "display_data"
    }
   ],
   "source": [
    "sns.boxplot(housing['Population'])"
   ]
  },
  {
   "cell_type": "code",
   "execution_count": 92,
   "id": "aa190e68",
   "metadata": {},
   "outputs": [
    {
     "data": {
      "text/plain": [
       "np.float64(4573.6600000000035)"
      ]
     },
     "execution_count": 92,
     "metadata": {},
     "output_type": "execute_result"
    }
   ],
   "source": [
    "housing.Population.quantile(0.98)"
   ]
  },
  {
   "cell_type": "code",
   "execution_count": null,
   "id": "947d669a",
   "metadata": {},
   "outputs": [
    {
     "data": {
      "text/html": [
       "<div>\n",
       "<style scoped>\n",
       "    .dataframe tbody tr th:only-of-type {\n",
       "        vertical-align: middle;\n",
       "    }\n",
       "\n",
       "    .dataframe tbody tr th {\n",
       "        vertical-align: top;\n",
       "    }\n",
       "\n",
       "    .dataframe thead th {\n",
       "        text-align: right;\n",
       "    }\n",
       "</style>\n",
       "<table border=\"1\" class=\"dataframe\">\n",
       "  <thead>\n",
       "    <tr style=\"text-align: right;\">\n",
       "      <th></th>\n",
       "      <th>MedInc</th>\n",
       "      <th>HouseAge</th>\n",
       "      <th>AveRooms</th>\n",
       "      <th>AveBedrms</th>\n",
       "      <th>Population</th>\n",
       "      <th>AveOccup</th>\n",
       "      <th>Latitude</th>\n",
       "      <th>Longitude</th>\n",
       "      <th>MedHouseVal</th>\n",
       "      <th>place</th>\n",
       "    </tr>\n",
       "  </thead>\n",
       "  <tbody>\n",
       "    <tr>\n",
       "      <th>283</th>\n",
       "      <td>1.789240</td>\n",
       "      <td>4.690416</td>\n",
       "      <td>14.098627</td>\n",
       "      <td>1.041179</td>\n",
       "      <td>4985.0</td>\n",
       "      <td>16.277302</td>\n",
       "      <td>37.79</td>\n",
       "      <td>-122.16</td>\n",
       "      <td>3.710</td>\n",
       "      <td>-4616.4264</td>\n",
       "    </tr>\n",
       "    <tr>\n",
       "      <th>570</th>\n",
       "      <td>2.029595</td>\n",
       "      <td>2.236068</td>\n",
       "      <td>14.772995</td>\n",
       "      <td>1.061442</td>\n",
       "      <td>7427.0</td>\n",
       "      <td>20.402901</td>\n",
       "      <td>37.72</td>\n",
       "      <td>-122.24</td>\n",
       "      <td>3.507</td>\n",
       "      <td>-4610.8928</td>\n",
       "    </tr>\n",
       "    <tr>\n",
       "      <th>576</th>\n",
       "      <td>1.982848</td>\n",
       "      <td>3.464102</td>\n",
       "      <td>15.285002</td>\n",
       "      <td>1.018934</td>\n",
       "      <td>5781.0</td>\n",
       "      <td>23.898288</td>\n",
       "      <td>37.77</td>\n",
       "      <td>-122.06</td>\n",
       "      <td>3.416</td>\n",
       "      <td>-4610.2062</td>\n",
       "    </tr>\n",
       "    <tr>\n",
       "      <th>780</th>\n",
       "      <td>1.339491</td>\n",
       "      <td>4.242641</td>\n",
       "      <td>11.283145</td>\n",
       "      <td>1.043679</td>\n",
       "      <td>5613.0</td>\n",
       "      <td>23.996982</td>\n",
       "      <td>37.63</td>\n",
       "      <td>-122.10</td>\n",
       "      <td>1.872</td>\n",
       "      <td>-4594.6230</td>\n",
       "    </tr>\n",
       "    <tr>\n",
       "      <th>799</th>\n",
       "      <td>0.922591</td>\n",
       "      <td>4.690416</td>\n",
       "      <td>9.048530</td>\n",
       "      <td>1.036227</td>\n",
       "      <td>5436.0</td>\n",
       "      <td>51.298583</td>\n",
       "      <td>37.64</td>\n",
       "      <td>-122.07</td>\n",
       "      <td>1.349</td>\n",
       "      <td>-4594.7148</td>\n",
       "    </tr>\n",
       "    <tr>\n",
       "      <th>...</th>\n",
       "      <td>...</td>\n",
       "      <td>...</td>\n",
       "      <td>...</td>\n",
       "      <td>...</td>\n",
       "      <td>...</td>\n",
       "      <td>...</td>\n",
       "      <td>...</td>\n",
       "      <td>...</td>\n",
       "      <td>...</td>\n",
       "      <td>...</td>\n",
       "    </tr>\n",
       "    <tr>\n",
       "      <th>20529</th>\n",
       "      <td>1.085358</td>\n",
       "      <td>3.464102</td>\n",
       "      <td>10.853134</td>\n",
       "      <td>1.022451</td>\n",
       "      <td>5633.0</td>\n",
       "      <td>18.289261</td>\n",
       "      <td>38.55</td>\n",
       "      <td>-121.78</td>\n",
       "      <td>2.043</td>\n",
       "      <td>-4694.6190</td>\n",
       "    </tr>\n",
       "    <tr>\n",
       "      <th>20530</th>\n",
       "      <td>1.143299</td>\n",
       "      <td>3.316625</td>\n",
       "      <td>11.155976</td>\n",
       "      <td>1.015530</td>\n",
       "      <td>7984.0</td>\n",
       "      <td>19.584226</td>\n",
       "      <td>38.57</td>\n",
       "      <td>-121.76</td>\n",
       "      <td>2.018</td>\n",
       "      <td>-4696.2832</td>\n",
       "    </tr>\n",
       "    <tr>\n",
       "      <th>20544</th>\n",
       "      <td>0.725130</td>\n",
       "      <td>4.795832</td>\n",
       "      <td>10.620633</td>\n",
       "      <td>1.013646</td>\n",
       "      <td>6330.0</td>\n",
       "      <td>41.251023</td>\n",
       "      <td>38.55</td>\n",
       "      <td>-121.76</td>\n",
       "      <td>2.194</td>\n",
       "      <td>-4693.8480</td>\n",
       "    </tr>\n",
       "    <tr>\n",
       "      <th>20563</th>\n",
       "      <td>1.139434</td>\n",
       "      <td>3.000000</td>\n",
       "      <td>11.415606</td>\n",
       "      <td>1.119593</td>\n",
       "      <td>6837.0</td>\n",
       "      <td>24.376163</td>\n",
       "      <td>38.67</td>\n",
       "      <td>-121.75</td>\n",
       "      <td>1.325</td>\n",
       "      <td>-4708.0725</td>\n",
       "    </tr>\n",
       "    <tr>\n",
       "      <th>20629</th>\n",
       "      <td>0.739219</td>\n",
       "      <td>5.291503</td>\n",
       "      <td>12.060506</td>\n",
       "      <td>1.020902</td>\n",
       "      <td>6912.0</td>\n",
       "      <td>54.957827</td>\n",
       "      <td>39.12</td>\n",
       "      <td>-121.39</td>\n",
       "      <td>1.083</td>\n",
       "      <td>-4748.7768</td>\n",
       "    </tr>\n",
       "  </tbody>\n",
       "</table>\n",
       "<p>413 rows × 10 columns</p>\n",
       "</div>"
      ],
      "text/plain": [
       "         MedInc  HouseAge   AveRooms  AveBedrms  Population   AveOccup  \\\n",
       "283    1.789240  4.690416  14.098627   1.041179      4985.0  16.277302   \n",
       "570    2.029595  2.236068  14.772995   1.061442      7427.0  20.402901   \n",
       "576    1.982848  3.464102  15.285002   1.018934      5781.0  23.898288   \n",
       "780    1.339491  4.242641  11.283145   1.043679      5613.0  23.996982   \n",
       "799    0.922591  4.690416   9.048530   1.036227      5436.0  51.298583   \n",
       "...         ...       ...        ...        ...         ...        ...   \n",
       "20529  1.085358  3.464102  10.853134   1.022451      5633.0  18.289261   \n",
       "20530  1.143299  3.316625  11.155976   1.015530      7984.0  19.584226   \n",
       "20544  0.725130  4.795832  10.620633   1.013646      6330.0  41.251023   \n",
       "20563  1.139434  3.000000  11.415606   1.119593      6837.0  24.376163   \n",
       "20629  0.739219  5.291503  12.060506   1.020902      6912.0  54.957827   \n",
       "\n",
       "       Latitude  Longitude  MedHouseVal      place  \n",
       "283       37.79    -122.16        3.710 -4616.4264  \n",
       "570       37.72    -122.24        3.507 -4610.8928  \n",
       "576       37.77    -122.06        3.416 -4610.2062  \n",
       "780       37.63    -122.10        1.872 -4594.6230  \n",
       "799       37.64    -122.07        1.349 -4594.7148  \n",
       "...         ...        ...          ...        ...  \n",
       "20529     38.55    -121.78        2.043 -4694.6190  \n",
       "20530     38.57    -121.76        2.018 -4696.2832  \n",
       "20544     38.55    -121.76        2.194 -4693.8480  \n",
       "20563     38.67    -121.75        1.325 -4708.0725  \n",
       "20629     39.12    -121.39        1.083 -4748.7768  \n",
       "\n",
       "[413 rows x 10 columns]"
      ]
     },
     "execution_count": 93,
     "metadata": {},
     "output_type": "execute_result"
    }
   ],
   "source": [
    "housing_short = housing.query('Population>4573')"
   ]
  },
  {
   "cell_type": "code",
   "execution_count": 107,
   "id": "4adc92b5",
   "metadata": {},
   "outputs": [
    {
     "data": {
      "text/plain": [
       "<Axes: ylabel='AveOccup'>"
      ]
     },
     "execution_count": 107,
     "metadata": {},
     "output_type": "execute_result"
    },
    {
     "data": {
      "image/png": "[encoded data removed]",
      "text/plain": [
       "<Figure size 640x480 with 1 Axes>"
      ]
     },
     "metadata": {},
     "output_type": "display_data"
    }
   ],
   "source": [
    "sns.boxplot(housing['AveOccup'])"
   ]
  },
  {
   "cell_type": "code",
   "execution_count": 113,
   "id": "3fb52a2b",
   "metadata": {},
   "outputs": [
    {
     "data": {
      "text/plain": [
       "np.float64(762.8521747951337)"
      ]
     },
     "execution_count": 113,
     "metadata": {},
     "output_type": "execute_result"
    }
   ],
   "source": [
    "housing.AveOccup.quantile(0.98)"
   ]
  },
  {
   "cell_type": "code",
   "execution_count": 25,
   "id": "935f5a1e",
   "metadata": {},
   "outputs": [
    {
     "data": {
      "text/plain": [
       "<Axes: >"
      ]
     },
     "execution_count": 25,
     "metadata": {},
     "output_type": "execute_result"
    },
    {
     "data": {
      "image/png": "[encoded data removed]",
      "text/plain": [
       "<Figure size 640x480 with 2 Axes>"
      ]
     },
     "metadata": {},
     "output_type": "display_data"
    }
   ],
   "source": [
    "corr_matrix = housing.corr()\n",
    "sns.heatmap(corr_matrix, annot=True)"
   ]
  },
  {
   "cell_type": "code",
   "execution_count": 32,
   "id": "724f432f",
   "metadata": {},
   "outputs": [
    {
     "name": "stdout",
     "output_type": "stream",
     "text": [
      "0.7316746485880744 0.5995238502055928 0.7398151789804083 0.5823239094526445\n"
     ]
    }
   ],
   "source": [
    "X2 = housing.loc[:, (housing.columns != \"MedHouseVal\")&(housing.columns != \"AveBedrms\")]\n",
    "y2 = housing[[\"MedHouseVal\"]]\n",
    "getMetrics(X2, y2)"
   ]
  },
  {
   "cell_type": "code",
   "execution_count": null,
   "id": "ceb497b0",
   "metadata": {},
   "outputs": [
    {
     "name": "stdout",
     "output_type": "stream",
     "text": [
      "0.6287729767152345 0.5613063197672397 0.6453735362820614 0.5539677335460962\n"
     ]
    }
   ],
   "source": [
    "new_housing = housing[housing.MedHouseVal < 4.8]\n",
    "X3 = new_housing.loc[:, (new_housing.columns != \"MedHouseVal\")&(new_housing.columns != \"AveBedrms\")]\n",
    "y3 = new_housing[[\"MedHouseVal\"]]\n",
    "getMetrics(X3, y3)"
   ]
  },
  {
   "cell_type": "code",
   "execution_count": 45,
   "id": "0e720bf5",
   "metadata": {},
   "outputs": [],
   "source": [
    "housing = fetch_california_housing(as_frame=True).frame\n",
    "housing['AveOccup'] = np.sqrt(housing['AveOccup'])\n",
    "housing['HouseAge'] = np.power(housing['HouseAge'], 2)\n",
    "housing['MedInc'] = np.power(housing['MedInc'], 3)"
   ]
  },
  {
   "cell_type": "code",
   "execution_count": 46,
   "id": "e2ac64eb",
   "metadata": {},
   "outputs": [
    {
     "name": "stdout",
     "output_type": "stream",
     "text": [
      "0.8203304652681309 0.49659407498404695 0.797870027083831 0.5142000774648812\n"
     ]
    }
   ],
   "source": [
    "X4 = housing.loc[:, housing.columns != \"MedHouseVal\"]\n",
    "y4 = housing[[\"MedHouseVal\"]]\n",
    "getMetrics(X4, y4)"
   ]
  },
  {
   "cell_type": "code",
   "execution_count": 47,
   "id": "1152fdde",
   "metadata": {},
   "outputs": [],
   "source": [
    "housing = fetch_california_housing(as_frame=True).frame\n",
    "housing['AveOccup'] = np.sqrt(housing['AveOccup'])\n",
    "housing['HouseAge'] = np.power(housing['HouseAge'], 2)\n",
    "housing['MedInc'] = np.log(housing['MedInc'])"
   ]
  },
  {
   "cell_type": "code",
   "execution_count": 48,
   "id": "365ee507",
   "metadata": {},
   "outputs": [
    {
     "name": "stdout",
     "output_type": "stream",
     "text": [
      "0.7551562958591195 0.5734063989475802 0.7655337638642559 0.5527793586984726\n"
     ]
    }
   ],
   "source": [
    "X5 = housing.loc[:, housing.columns != \"MedHouseVal\"]\n",
    "y5 = housing[[\"MedHouseVal\"]]\n",
    "getMetrics(X5, y5)"
   ]
  },
  {
   "cell_type": "code",
   "execution_count": 49,
   "id": "9eff6af6",
   "metadata": {},
   "outputs": [],
   "source": [
    "housing = fetch_california_housing(as_frame=True).frame\n",
    "housing['AveOccup'] = np.sqrt(housing['AveOccup'])\n",
    "housing['HouseAge'] = np.power(housing['HouseAge'], 2)\n",
    "housing['MedInc'] = np.log(housing['MedInc'])\n",
    "housing['place'] = housing['Latitude']*housing['Longitude']"
   ]
  },
  {
   "cell_type": "code",
   "execution_count": 50,
   "id": "e4cb304a",
   "metadata": {},
   "outputs": [
    {
     "name": "stdout",
     "output_type": "stream",
     "text": [
      "0.8155642660955122 0.5024267554140185 0.8225535125129707 0.48367701062633917\n"
     ]
    }
   ],
   "source": [
    "X6 = housing.loc[:, (housing.columns != \"MedHouseVal\")&(housing.columns != \"Longitude\")&(housing.columns != \"Latitude\")]\n",
    "y6 = housing[[\"MedHouseVal\"]]\n",
    "getMetrics(X6, y6)"
   ]
  },
  {
   "cell_type": "markdown",
   "id": "b934d593",
   "metadata": {},
   "source": [
    "Получили на тестовых данных даже лучшие результаты, чем на тренировочных по среднеквадратичной ошибке"
   ]
  },
  {
   "cell_type": "code",
   "execution_count": 71,
   "id": "d7bec13b",
   "metadata": {},
   "outputs": [],
   "source": [
    "housing = fetch_california_housing(as_frame=True).frame\n",
    "housing['AveOccup'] = np.power(housing['AveOccup'], 3)\n",
    "housing['HouseAge'] = np.sqrt(housing['HouseAge'])\n",
    "housing['MedInc'] = np.log(housing['MedInc'])\n",
    "housing['place'] = housing['Latitude']*housing['Longitude']\n",
    "housing['AveRooms'] = housing['AveBedrms']+2*housing['AveRooms']"
   ]
  },
  {
   "cell_type": "code",
   "execution_count": 72,
   "id": "d83e086c",
   "metadata": {},
   "outputs": [
    {
     "name": "stdout",
     "output_type": "stream",
     "text": [
      "0.8424075807713404 0.46913367836009545 0.8442226285323029 0.4561149546741209\n"
     ]
    }
   ],
   "source": [
    "X7 = housing.loc[:, (housing.columns != \"MedHouseVal\")&(housing.columns != \"Longitude\")&(housing.columns != \"Latitude\")&(housing.columns != 'AveBedrms')]\n",
    "y7 = housing[[\"MedHouseVal\"]]\n",
    "getMetrics(X7, y7)"
   ]
  },
  {
   "cell_type": "code",
   "execution_count": 105,
   "id": "4b682942",
   "metadata": {},
   "outputs": [],
   "source": [
    "housing = fetch_california_housing(as_frame=True).frame\n",
    "housing = housing.query('Population>4573')\n",
    "housing['AveOccup'] = np.power(housing['AveOccup'], 3)\n",
    "housing['HouseAge'] = np.sqrt(housing['HouseAge'])\n",
    "housing['MedInc'] = np.log(housing['MedInc'])"
   ]
  },
  {
   "cell_type": "code",
   "execution_count": 106,
   "id": "12cb7e6c",
   "metadata": {},
   "outputs": [
    {
     "name": "stdout",
     "output_type": "stream",
     "text": [
      "0.6190106137846936 0.5460653807401992 0.48348473411560333 0.6827182848708834\n"
     ]
    }
   ],
   "source": [
    "X8 = housing.loc[:, (housing.columns != \"MedHouseVal\")]\n",
    "y8 = housing[[\"MedHouseVal\"]]\n",
    "getMetrics(X8, y8)"
   ]
  },
  {
   "cell_type": "code",
   "execution_count": 122,
   "id": "74fa6dac",
   "metadata": {},
   "outputs": [],
   "source": [
    "housing = fetch_california_housing(as_frame=True).frame\n",
    "housing = housing.query('Population>4573')\n",
    "housing = housing.loc[housing.AveOccup<housing.AveOccup.quantile(0.99)]\n",
    "housing['AveOccup'] = np.power(housing['AveOccup'], 2)\n",
    "housing['HouseAge'] = np.sqrt(housing['HouseAge'])\n",
    "housing['MedInc'] = np.log(housing['MedInc'])"
   ]
  },
  {
   "cell_type": "code",
   "execution_count": 123,
   "id": "ac61d74c",
   "metadata": {},
   "outputs": [
    {
     "name": "stdout",
     "output_type": "stream",
     "text": [
      "0.6212538316939583 0.5599664709861778 0.43417829970105654 0.6944248532953319\n"
     ]
    }
   ],
   "source": [
    "X9 = housing.loc[:, (housing.columns != \"MedHouseVal\")]\n",
    "y9 = housing[[\"MedHouseVal\"]]\n",
    "getMetrics(X9, y9)"
   ]
  },
  {
   "cell_type": "markdown",
   "id": "bd28b09b",
   "metadata": {},
   "source": [
    "Модель выдает R**2 почти 70%, т.е. является удовлетворительной для использования"
   ]
  },
  {
   "cell_type": "code",
   "execution_count": null,
   "id": "b779a619",
   "metadata": {},
   "outputs": [],
   "source": []
  }
 ],
 "metadata": {
  "kernelspec": {
   "display_name": "Python 3",
   "language": "python",
   "name": "python3"
  },
  "language_info": {
   "codemirror_mode": {
    "name": "ipython",
    "version": 3
   },
   "file_extension": ".py",
   "mimetype": "text/x-python",
   "name": "python",
   "nbconvert_exporter": "python",
   "pygments_lexer": "ipython3",
   "version": "3.13.2"
  }
 },
 "nbformat": 4,
 "nbformat_minor": 5
}
