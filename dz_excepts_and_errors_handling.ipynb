{
 "cells": [
  {
   "cell_type": "code",
   "execution_count": 1,
   "metadata": {},
   "outputs": [],
   "source": [
    "from datetime import datetime\n",
    "import datetime as dt"
   ]
  },
  {
   "cell_type": "markdown",
   "metadata": {},
   "source": [
    "Задание 1\n",
    "\n",
    "Печатные газеты использовали свой формат дат для каждого выпуска. Для каждой газеты из списка напишите формат указанной даты для перевода в объект datetime:\n",
    "The Moscow Times — Wednesday, October 2, 2002\n",
    "The Guardian — Friday, 11.10.13\n",
    "Daily News — Thursday, 18 August 1977"
   ]
  },
  {
   "cell_type": "code",
   "execution_count": 7,
   "metadata": {},
   "outputs": [
    {
     "name": "stdout",
     "output_type": "stream",
     "text": [
      "2002-10-02 00:00:00\n",
      "2013-10-11 00:00:00\n",
      "1977-08-18 00:00:00\n"
     ]
    }
   ],
   "source": [
    "print(datetime.strptime('Wednesday, October 2, 2002', '%A, %B %d, %Y'))\n",
    "print(datetime.strptime('Friday, 11.10.13', '%A, %d.%m.%y'))\n",
    "print(datetime.strptime('Thursday, 18 August 1977', '%A, %d %B %Y'))"
   ]
  },
  {
   "cell_type": "markdown",
   "metadata": {},
   "source": [
    "Задание 2\n",
    "\n",
    "Дан поток дат в формате YYYY-MM-DD, в которых встречаются некорректные значения:\n",
    "stream = [‘2018-04-02’, ‘2018-02-29’, ‘2018-19-02’]\n",
    "\n",
    "Напишите функцию, которая проверяет эти даты на корректность. То есть для каждой даты возвращает True — дата корректна или False — некорректная."
   ]
  },
  {
   "cell_type": "code",
   "execution_count": 10,
   "metadata": {},
   "outputs": [
    {
     "name": "stdout",
     "output_type": "stream",
     "text": [
      "корректная\n",
      "некорректная\n",
      "некорректная\n"
     ]
    }
   ],
   "source": [
    "def check_dates(list_of_dates, format_of_dates):\n",
    "    for date_ in list_of_dates:\n",
    "        try:\n",
    "            datetime.strptime(date_, format_of_dates)\n",
    "            print('корректная')\n",
    "        except ValueError:\n",
    "            print('некорректная')\n",
    "        \n",
    "stream = [\"2018-04-02\", \"2018-02-29\", \"2018-19-02\"]\n",
    "format_of_dates = '%Y-%m-%d'\n",
    "\n",
    "check_dates(stream, format_of_dates=format_of_dates)"
   ]
  },
  {
   "cell_type": "markdown",
   "metadata": {},
   "source": [
    "Задание 3\n",
    "\n",
    "Напишите функцию date_range, которая возвращает список дат за период от start_date до end_date. Даты должны вводиться в формате YYYY-MM-DD. В случае неверного формата или при start_date > end_date должен возвращаться пустой список."
   ]
  },
  {
   "cell_type": "code",
   "execution_count": 26,
   "metadata": {},
   "outputs": [
    {
     "data": {
      "text/plain": [
       "['2022-01-02', '2022-01-03', '2022-01-04', '2022-01-05']"
      ]
     },
     "execution_count": 26,
     "metadata": {},
     "output_type": "execute_result"
    }
   ],
   "source": [
    "def dates_of_period(date_start, date_end, format_of_dates='%Y-%m-%d', delta=dt.timedelta(days=1)):\n",
    "    list_dates = list()\n",
    "    try:\n",
    "        date_start = datetime.strptime(date_start, format_of_dates)\n",
    "        date_end = datetime.strptime(date_end, format_of_dates)\n",
    "        while date_start<=date_end:\n",
    "            list_dates.append(datetime.strftime(date_start, '%Y-%m-%d'))\n",
    "            date_start +=delta\n",
    "    except ValueError:\n",
    "        pass\n",
    "    finally:\n",
    "        return list_dates\n",
    "\n",
    "dates_of_period('2022-01-02', '2022-01-05')"
   ]
  },
  {
   "cell_type": "markdown",
   "metadata": {},
   "source": [
    "Задание 4\n",
    "\n",
    "Ваш коллега прислал код функции:\n",
    "\n",
    "DEFAULT_USER_COUNT = 3\n",
    "\n",
    "def delete_and_return_last_user(region, default_list=[‘A100’, ‘A101’, ‘A102’]):\n",
    "\n",
    "\"\"“\n",
    "Удаляет из списка default_list последнего пользователя\n",
    "и возвращает ID нового последнего пользователя.\n",
    "”\"\"\n",
    "\n",
    "    element_to_delete = default_list[-1]\n",
    "    default_list.remove(element_to_delete)\n",
    "    return default_list[DEFAULT_USER_COUNT-2]\n",
    "\n",
    "При однократном вызове этой функции всё работает корректно:\n",
    "delete_and_return_last_user(1)\n",
    "‘A101’\n",
    "\n",
    "Однако при повторном вызове получается ошибка IndexError: list index out of range.\n",
    "\n",
    "Задание:\n",
    "\n",
    "Что значит ошибка list index out of range?\n",
    "\n",
    "Почему при первом запуске функция работает корректно, а при втором — нет?"
   ]
  },
  {
   "cell_type": "code",
   "execution_count": 72,
   "metadata": {},
   "outputs": [],
   "source": [
    "DEFAULT_USER_COUNT = 3\n",
    "\n",
    "def delete_and_return_last_user(region, default_list=['A100', 'A101', 'A102']):\n",
    "\n",
    "    \"\"\"Удаляет из списка default_list последнего пользователя\n",
    "    и возвращает ID нового последнего пользователя.\"\"\"\n",
    "\n",
    "    element_to_delete = default_list[-1]\n",
    "    default_list.remove(element_to_delete)\n",
    "    return default_list[DEFAULT_USER_COUNT-2]"
   ]
  },
  {
   "cell_type": "code",
   "execution_count": 73,
   "metadata": {},
   "outputs": [
    {
     "data": {
      "text/plain": [
       "'A101'"
      ]
     },
     "execution_count": 73,
     "metadata": {},
     "output_type": "execute_result"
    }
   ],
   "source": [
    "delete_and_return_last_user(1)"
   ]
  },
  {
   "cell_type": "markdown",
   "metadata": {},
   "source": [
    "list index out of range означает, что индекс превышает длину списка. \n",
    "Список при применении метода remove уменьшается, \n",
    "а переменная DEFAULT_USER_COUNT нет,\n",
    "то есть при первом вызове функции удаляется элемент с индексом 2 и выводится элемент с индексом (3-2)=1,\n",
    "а в следующем вызове удаляется элемент с индексом 1  и выводится должен элемент с индексом (3-2)=1 а его нет.....\n",
    "Для корректной работы программы переменная DEFAULT_USER_COUNT должна находится внутри тела функции и зависеть от длины списка."
   ]
  }
 ],
 "metadata": {
  "kernelspec": {
   "display_name": "Python 3",
   "language": "python",
   "name": "python3"
  },
  "language_info": {
   "codemirror_mode": {
    "name": "ipython",
    "version": 3
   },
   "file_extension": ".py",
   "mimetype": "text/x-python",
   "name": "python",
   "nbconvert_exporter": "python",
   "pygments_lexer": "ipython3",
   "version": "3.13.1"
  }
 },
 "nbformat": 4,
 "nbformat_minor": 2
}
