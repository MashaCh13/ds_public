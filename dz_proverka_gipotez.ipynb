{
 "cells": [
  {
   "cell_type": "code",
   "execution_count": 189,
   "id": "250ad3d3",
   "metadata": {},
   "outputs": [],
   "source": [
    "import numpy as np\n",
    "import scipy.stats as st\n",
    "from scipy.stats import kstest, ttest_1samp, ttest_ind\n",
    "import pandas as pd\n",
    "from statsmodels.stats.diagnostic import lilliefors\n",
    "import matplotlib.pyplot as plt\n",
    "import seaborn as sns"
   ]
  },
  {
   "cell_type": "markdown",
   "id": "2660a38b",
   "metadata": {},
   "source": [
    "<div class=\"alert alert-danger\">\n",
    "\n",
    "<b>Задание 1</b>\n",
    "\n",
    "Разработайте функцию для проверки нормальности распределения выборки данных, используя шаблон в материалах к домашнему заданию. Вы можете использовать один из известных Вам статистических тестов.\n",
    "</div>"
   ]
  },
  {
   "cell_type": "code",
   "execution_count": 6,
   "id": "28c8662e",
   "metadata": {},
   "outputs": [],
   "source": [
    "def if_normal(data, pval=0.05):\n",
    "\n",
    "    # Тест Колмогорова-Смирнова\n",
    "    \n",
    "    if kstest(data, 'norm')[1]>=pval:\n",
    "        return \"распределение нормальное\"\n",
    "    elif kstest(data, 'norm')[1]<pval:\n",
    "        return \"распределение ненормальное\"\n",
    "    else:\n",
    "        return \"введенные данные некорректны\""
   ]
  },
  {
   "cell_type": "code",
   "execution_count": 7,
   "id": "f9bb9231",
   "metadata": {},
   "outputs": [],
   "source": [
    "def if_normal_popravka(data, pval=0.01):\n",
    "\n",
    "    # Тест Колмогорова-Смирнова с поправкой Лиллиефорса\n",
    "    \n",
    "    if lilliefors(data)[1]>=pval:\n",
    "        return \"распределение нормальное\"\n",
    "    elif lilliefors(data)[1]<pval:\n",
    "        return \"распределение ненормальное\"\n",
    "    else:\n",
    "        return \"введенные данные некорректны\""
   ]
  },
  {
   "cell_type": "markdown",
   "id": "9b763463",
   "metadata": {},
   "source": [
    "<div class=\"alert alert-warning\">\n",
    "<b>Задание 2</b>\n",
    "\n",
    "Даны две выборки роста мужчин и женщин.\n",
    "\n",
    "Докажите, используя t-Тест Стьдента, что различие между выборками незначительно, если уровень значимости равен\n",
    "α\n",
    "= 0.001.\n",
    "\n",
    "Покажите различия визуально\n",
    "Является ли результат полезным с практической точки зрения? Почему да или нет?\n",
    "</div>"
   ]
  },
  {
   "cell_type": "code",
   "execution_count": 179,
   "id": "7ca4cfd4",
   "metadata": {},
   "outputs": [],
   "source": [
    "def is_stat_dif_two(np_arr1, np_arr2, alfa=0.001):\n",
    "    \n",
    "    # plt.hist(woman_height, bins=120, color='#C71851', alpha=0.7, density=True) \n",
    "    # plt.hist(man_height, bins=120, color='#708090', alpha=0.7, density=True)\n",
    "\n",
    "    plt.boxplot(np_arr1)\n",
    "    plt.boxplot(np_arr2)\n",
    "    \n",
    "    p = ttest_ind(np_arr1, np_arr2)[1]\n",
    "    print(p)\n",
    "    if p>=alfa:\n",
    "      return 'различия незначительны'\n",
    "    elif p<alfa:\n",
    "        return 'выборки статистически различаются'\n",
    "    else:\n",
    "        return 'введены некорректные данные'"
   ]
  },
  {
   "cell_type": "code",
   "execution_count": 185,
   "id": "d29d6c3d",
   "metadata": {},
   "outputs": [],
   "source": [
    "def is_stat_dif(man_height, woman_height, alfa=0.001):\n",
    "    \n",
    "    # plt.hist(woman_height, bins=120, color='#C71851', alpha=0.7, density=True) \n",
    "    # plt.hist(man_height, bins=120, color='#708090', alpha=0.7, density=True)\n",
    "\n",
    "    plt.boxplot(woman_height)\n",
    "    plt.boxplot(man_height)\n",
    "    \n",
    "    p = ttest_1samp(man_height, woman_height.mean())[1]\n",
    "    print(p)\n",
    "    if p>=alfa:\n",
    "      return 'различия незначительны'\n",
    "    elif p<alfa:\n",
    "        return 'выборки статистически различаются'\n",
    "    else:\n",
    "        return 'введены некорректные данные'"
   ]
  },
  {
   "cell_type": "code",
   "execution_count": 151,
   "id": "08a96fd4",
   "metadata": {},
   "outputs": [],
   "source": [
    "np.random.seed(42) #фиксация случайности\n",
    "\n",
    "mens  = st.norm.rvs(loc=171, scale=10, size=150000)  # Выборка мужчин со средним ростом 171\n",
    "womens = st.norm.rvs(loc=170, scale=10, size=150000)"
   ]
  },
  {
   "cell_type": "code",
   "execution_count": 174,
   "id": "37f850df",
   "metadata": {},
   "outputs": [
    {
     "name": "stdout",
     "output_type": "stream",
     "text": [
      "0.0\n"
     ]
    },
    {
     "data": {
      "text/plain": [
       "'выборки статистически различаются'"
      ]
     },
     "execution_count": 174,
     "metadata": {},
     "output_type": "execute_result"
    },
    {
     "data": {
      "image/png": "[encoded data removed]",
      "text/plain": [
       "<Figure size 640x480 with 1 Axes>"
      ]
     },
     "metadata": {},
     "output_type": "display_data"
    }
   ],
   "source": [
    "is_stat_dif(mens, womens, 0.001)"
   ]
  },
  {
   "cell_type": "markdown",
   "id": "b28ebdeb",
   "metadata": {},
   "source": [
    "Не является результат полезным с практической точки зрения, потому что разница в 1 см при формировании данных сама по себе составляет только 0.5%, что уже вызывает вопрос, насколько эта разница, если бы это были реальные данные, является статистически значимой...... (сама не поняла чего написала)"
   ]
  },
  {
   "cell_type": "markdown",
   "id": "0fbe0d8f",
   "metadata": {},
   "source": [
    "<div class=\"alert alert-info\">\n",
    "<b>Задание 3</b>\n",
    "\n",
    "Специалист по кадрам, работающий в технологической компании, интересуется сверхурочным временем разных команд. Чтобы выяснить, есть ли разница между сверхурочной работой команды разработчиков программного обеспечения и группы тестирования, она случайным образом выбрала 17 сотрудников в каждой из двух команд и записала их среднее сверхурочное время за неделю в пересчете на час. Данные ниже.\n",
    "В соответствии с этой информацией проведите проверку гипотезы, чтобы проверить, есть ли разница между переутомлением двух команд, используя уровень значимости 0,05. Прежде чем приступать к проверке гипотез, проверьте предположение нормальности.\n",
    "</div>"
   ]
  },
  {
   "cell_type": "code",
   "execution_count": 245,
   "id": "fc261b6c",
   "metadata": {},
   "outputs": [
    {
     "name": "stdout",
     "output_type": "stream",
     "text": [
      "распределение нормальное\n",
      "распределение ненормальное\n",
      "0.635016563154672\n",
      "различия незначительны\n",
      "0.526397730734845\n",
      "различия незначительны\n"
     ]
    },
    {
     "data": {
      "text/plain": [
       "<Axes: >"
      ]
     },
     "execution_count": 245,
     "metadata": {},
     "output_type": "execute_result"
    },
    {
     "data": {
      "image/png": "[encoded data removed]",
      "text/plain": [
       "<Figure size 640x480 with 1 Axes>"
      ]
     },
     "metadata": {},
     "output_type": "display_data"
    },
    {
     "data": {
      "image/png": "[encoded data removed]",
      "text/plain": [
       "<Figure size 640x480 with 2 Axes>"
      ]
     },
     "metadata": {},
     "output_type": "display_data"
    }
   ],
   "source": [
    "test_team = np.array([6.2, 7.1, 1.5, 2,3 , 2, 1.5, 6.1, 2.4, 2.3, 12.4, 1.8, 5.3, 3.1, 9.4, 2.3, 4.1])\n",
    "developer_team = np.array([2.3, 2.1, 1.4, 2.0, 8.7, 2.2, 3.1, 4.2, 3.6, 2.5, 3.1, 6.2, 12.1, 3.9, 2.2, 1.2 ,3.4])\n",
    "\n",
    "print(if_normal_popravka(test_team))\n",
    "print(if_normal_popravka(developer_team))\n",
    "\n",
    "print(is_stat_dif_two(test_team, developer_team, 0.05))\n",
    "print(is_stat_dif(test_team, developer_team, 0.05))\n",
    "\n",
    "fig, axs = plt.subplots(ncols=2)\n",
    "sns.boxplot(data=test_team, ax=axs[0], color='#4582B4')\n",
    "sns.boxplot(data=developer_team, ax=axs[1], color='#778899')"
   ]
  },
  {
   "cell_type": "code",
   "execution_count": 254,
   "id": "b2c6c55c",
   "metadata": {},
   "outputs": [
    {
     "name": "stdout",
     "output_type": "stream",
     "text": [
      "Не отклоняем нулевую гипотезу: p-value= 0.823\n",
      "Распределения вероятно одинаковые\n"
     ]
    }
   ],
   "source": [
    "stat, p = st.mannwhitneyu(test_team, developer_team)\n",
    "if p >= 0.05:\n",
    "    print(f'Не отклоняем нулевую гипотезу: p-value={p: .3f}')\n",
    "    print(f'Распределения вероятно одинаковые')\n",
    "if p <0.05:\n",
    "    print(f'Отклоняем нулевую гипотезу: p-value={p: .3f}')\n",
    "    print(f'Распределения вероятно различаются')"
   ]
  },
  {
   "cell_type": "code",
   "execution_count": 255,
   "id": "32778d97",
   "metadata": {},
   "outputs": [
    {
     "name": "stdout",
     "output_type": "stream",
     "text": [
      "Не отклоняем нулевую гипотезу: p-value= 0.796\n",
      "Распределения вероятно одинаковые\n"
     ]
    }
   ],
   "source": [
    "stat, p = st.wilcoxon(test_team, developer_team)\n",
    "if p >= 0.05:\n",
    "    print(f'Не отклоняем нулевую гипотезу: p-value={p: .3f}')\n",
    "    print(f'Распределения вероятно одинаковые')\n",
    "if p <0.05:\n",
    "    print(f'Отклоняем нулевую гипотезу: p-value={p: .3f}')\n",
    "    print(f'Распределения вероятно различаются')"
   ]
  },
  {
   "cell_type": "markdown",
   "id": "2f49a5d7",
   "metadata": {},
   "source": [
    "<div class=\"alert alert-success\">\n",
    "<b>Задание 4</b>\n",
    "\n",
    "Педиатр хочет увидеть влияние потребления смеси на среднемесячную прибавку в весе у новорожденных. По этой причине она собрала данные из трех разных групп. Первая группа – дети исключительно грудного вскармливания, вторая группа – дети, которых кормят только смесью, и последняя группа – это дети, находящиеся на искусственном вскармливании и на грудном вскармливании. Эти данные приведены ниже.\n",
    "В соответствии с этой информацией проведите проверку гипотезы, чтобы проверить, есть ли разница между среднемесячным приростом этих трех групп, используя уровень значимости 0,05. Если есть значительная разница, выполните дальнейший анализ, чтобы найти причину разницы.\n",
    "</div>"
   ]
  },
  {
   "cell_type": "code",
   "execution_count": 166,
   "id": "b87a4ed8",
   "metadata": {},
   "outputs": [],
   "source": [
    "only_breast = np.array([794.1, 716.9, 993. , 724.7, 760.9, 908.2, 659.3 , 690.8, 768.7, 717.3 , 630.7, 729.5, 714.1, 810.3, 583.5, 679.9, 865.1])\n",
    "only_formula = np.array([898.8, 881.2, 940.2, 966.2, 957.5, 1061.7, 1046.2, 980.4, 895.6, 919.7, 1074.1, 952.5, 796.3, 859.6, 871.1 , 1047.5, 919.1 , 1160.5, 996.9])\n",
    "both = np.array([976.4, 656.4, 861.2, 706.8, 718.5, 717.1, 759.8, 894.6, 867.6, 805.6, 765.4, 800.3, 789.9, 875.3, 740. , 799.4, 790.3, 795.2 , 823.6, 818.7, 926.8, 791.7, 948.3])"
   ]
  },
  {
   "cell_type": "code",
   "execution_count": 260,
   "id": "ad8899ad",
   "metadata": {},
   "outputs": [
    {
     "name": "stdout",
     "output_type": "stream",
     "text": [
      "17 19 23\n"
     ]
    }
   ],
   "source": [
    "print(len(only_breast), len(only_formula), len(both))"
   ]
  },
  {
   "cell_type": "code",
   "execution_count": 275,
   "id": "fcbff527",
   "metadata": {},
   "outputs": [
    {
     "name": "stdout",
     "output_type": "stream",
     "text": [
      " 0.00001\n",
      " 0.02861\n",
      " 0.00001\n"
     ]
    }
   ],
   "source": [
    "print(f'{st.mannwhitneyu(only_breast, only_formula)[1]: .5f}')\n",
    "print(f'{st.mannwhitneyu(only_breast, both)[1]: .5f}')\n",
    "print(f'{st.mannwhitneyu(only_formula, both)[1]: .5f}')"
   ]
  },
  {
   "cell_type": "markdown",
   "id": "aabf2bc8",
   "metadata": {},
   "source": [
    "ну получается, что выборки статистически различаются, т.е. отклоняем 0 гипотезу о том, что набор веса не зависит от способа кормления"
   ]
  },
  {
   "cell_type": "code",
   "execution_count": 188,
   "id": "743390a2",
   "metadata": {},
   "outputs": [
    {
     "name": "stdout",
     "output_type": "stream",
     "text": [
      "распределение нормальное\n",
      "распределение нормальное\n",
      "распределение нормальное\n",
      "1.5674024199277877e-07\n",
      "выборки статистически различаются\n",
      "0.04315143345605874\n",
      "выборки статистически различаются\n",
      "1.1692474866673824e-06\n",
      "выборки статистически различаются\n"
     ]
    },
    {
     "data": {
      "image/png": "[encoded data removed]",
      "text/plain": [
       "<Figure size 640x480 with 1 Axes>"
      ]
     },
     "metadata": {},
     "output_type": "display_data"
    }
   ],
   "source": [
    "print(if_normal_popravka(only_breast))\n",
    "print(if_normal_popravka(only_formula))\n",
    "print(if_normal_popravka(both))\n",
    "\n",
    "print(is_stat_dif_two(only_breast, only_formula, 0.05))\n",
    "print(is_stat_dif_two(only_breast, both, 0.05))\n",
    "print(is_stat_dif_two(only_formula, both, 0.05))"
   ]
  },
  {
   "cell_type": "code",
   "execution_count": 203,
   "id": "1fea8328",
   "metadata": {},
   "outputs": [
    {
     "data": {
      "text/plain": [
       "<Axes: >"
      ]
     },
     "execution_count": 203,
     "metadata": {},
     "output_type": "execute_result"
    },
    {
     "data": {
      "image/png": "[encoded data removed]",
      "text/plain": [
       "<Figure size 640x480 with 3 Axes>"
      ]
     },
     "metadata": {},
     "output_type": "display_data"
    }
   ],
   "source": [
    "fig, axs = plt.subplots(ncols=3)\n",
    "sns.boxplot(data=only_breast, ax=axs[0], color='#4582B4')\n",
    "sns.boxplot(data=only_formula, ax=axs[1], color='#4169E1')\n",
    "sns.boxplot(data=both, ax=axs[2], color='#778899')"
   ]
  },
  {
   "cell_type": "markdown",
   "id": "886ee400",
   "metadata": {},
   "source": [
    "Получается дети лучше растут что ли на искусственном вскармливании..... \n",
    "Меньше всего различаются выборки на грудном и смешанном вскармливании...."
   ]
  },
  {
   "cell_type": "markdown",
   "id": "51ec006c",
   "metadata": {},
   "source": [
    "<div class=\"alert alert-danger\">\n",
    "<b>Задание № 5 (Опционально) </b>\n",
    "\n",
    "Аналитик финансовой инвестиционной компании интересуется взаимосвязью между полом и склонностью к риску. Из базы данных была взята случайная выборка из 660 клиентов. Клиенты в выборке были классифицированы в соответствии с их полом и склонностью к риску. Результат приведен в следующей таблице.\n",
    "    \n",
    "Проверьте гипотезу о том, что склонность к риску клиентов этой компании не зависит от их пола. Используйте α = 0.01.    \n",
    "</div>"
   ]
  },
  {
   "cell_type": "code",
   "execution_count": 205,
   "id": "3c95854f",
   "metadata": {},
   "outputs": [
    {
     "name": "stdout",
     "output_type": "stream",
     "text": [
      "Уровень риска\n",
      "    0   1   2   3    4\n",
      "Ж  53  23  30  36   88\n",
      "М  71  48  51  57  203\n"
     ]
    }
   ],
   "source": [
    "contingency_table = pd.DataFrame(\n",
    "    [\n",
    "        [53, 23, 30, 36, 88],\n",
    "        [71, 48, 51, 57, 203]\n",
    "    ],\n",
    "    index = ['Ж', 'М'])\n",
    "\n",
    "print('Уровень риска')\n",
    "print(contingency_table)"
   ]
  },
  {
   "cell_type": "code",
   "execution_count": 264,
   "id": "7e5aaec9",
   "metadata": {},
   "outputs": [
    {
     "name": "stdout",
     "output_type": "stream",
     "text": [
      "p-value = 0.130992, уровень значимости = 0.05\n",
      "На уровене значимости 0.05, мы не отвергаем нулевые гипотезы. Они независимы.\n"
     ]
    }
   ],
   "source": [
    "chi, pval, dof, exp = st.chi2_contingency(contingency_table.values) #Критерий Пирсона (хи квадрат)\n",
    "significance = 0.05\n",
    "\n",
    "print(f\"p-value = {pval:.6f}, уровень значимости = {significance:.2f}\")\n",
    "\n",
    "if pval < significance:\n",
    "    print(f\"На уровене значимости {significance:.2f}, мы отвергаем нулевые гипотезы и принимаем H1. Они не независимы.\")\n",
    "    print('Это правда эксперт!')\n",
    "else:\n",
    "    print(f\"На уровене значимости {significance:.2f}, мы не отвергаем нулевые гипотезы. Они независимы.\")"
   ]
  },
  {
   "cell_type": "markdown",
   "id": "48593cb6",
   "metadata": {},
   "source": [
    "<div class=\"alert alert-info\">\n",
    "<b>Задание № 6 (Опционально)</b>\n",
    "\n",
    "Компания электронной коммерции регулярно размещает рекламу своих кампаний на YouTube, Instagram и Facebook. Однако новому менеджеру было любопытно, есть ли разница между количеством клиентов, привлеченных этими платформами. Поэтому она начала использовать Adjust — приложение, позволяющее узнать, откуда приходят ваши пользователи. Ежедневные цифры, сообщаемые Adjust для каждой платформы, приведены ниже.\n",
    "    \n",
    "В соответствии с этой информацией проведите проверку гипотез, чтобы проверить, есть ли разница между средним числом привлеченных клиентов на этих трех платформах с использованием уровня значимости 0,05. Если есть значительная разница, выполните дальнейший анализ, чтобы найти причину разницы. Прежде чем приступать к проверке гипотез, проверьте соответствующие предположения.\n",
    "</div>"
   ]
  },
  {
   "cell_type": "code",
   "execution_count": null,
   "id": "8efcbf10",
   "metadata": {},
   "outputs": [],
   "source": [
    "youtube = np.arange([1913, 1879, 1939, 2146, 2040, 2127, 2122, 2156, 2036, 1974, 1956, 2146, 2151, 1943, 2125])\n",
    "instagram = np.arange([2305., 2355., 2203., 2231., 2185., 2420., 2386., 2410., 2340., 2349., 2241., 2396., 2244., 2267., 2281.])\n",
    "facebook = np.arange([2133., 2522., 2124., 2551., 2293., 2367., 2460., 2311., 2178., 2113., 2048., 2443., 2265., 2095., 2528.])"
   ]
  },
  {
   "cell_type": "code",
   "execution_count": 244,
   "id": "81321bfc",
   "metadata": {},
   "outputs": [
    {
     "data": {
      "text/plain": [
       "<Axes: >"
      ]
     },
     "execution_count": 244,
     "metadata": {},
     "output_type": "execute_result"
    },
    {
     "data": {
      "image/png": "[encoded data removed]",
      "text/plain": [
       "<Figure size 1300x700 with 3 Axes>"
      ]
     },
     "metadata": {},
     "output_type": "display_data"
    }
   ],
   "source": [
    "fig, axs = plt.subplots(ncols=3)\n",
    "fig.set_figheight(7)\n",
    "fig.set_figwidth(13)\n",
    "\n",
    "sns.boxplot(data=youtube, ax=axs[0], color='#4582B4')\n",
    "\n",
    "sns.boxplot(data=instagram, ax=axs[1], color='#4169E1')\n",
    "\n",
    "sns.boxplot(data=facebook, ax=axs[2], color='#778899')"
   ]
  },
  {
   "cell_type": "code",
   "execution_count": 262,
   "id": "cde2b6e8",
   "metadata": {},
   "outputs": [
    {
     "name": "stdout",
     "output_type": "stream",
     "text": [
      "распределение нормальное\n",
      "распределение нормальное\n",
      "распределение нормальное\n",
      "9.791198004087028e-09\n",
      "выборки статистически различаются\n",
      "4.504885518546452e-05\n",
      "выборки статистически различаются\n",
      "0.8082172017521337\n",
      "различия незначительны\n"
     ]
    },
    {
     "data": {
      "image/png": "[encoded data removed]",
      "text/plain": [
       "<Figure size 640x480 with 1 Axes>"
      ]
     },
     "metadata": {},
     "output_type": "display_data"
    }
   ],
   "source": [
    "print(if_normal_popravka(youtube))\n",
    "print(if_normal_popravka(instagram))\n",
    "print(if_normal_popravka(facebook))\n",
    "\n",
    "print(is_stat_dif_two(youtube, instagram, 0.05))\n",
    "print(is_stat_dif_two(facebook, youtube, 0.05))\n",
    "print(is_stat_dif_two(instagram, facebook, 0.05))"
   ]
  },
  {
   "cell_type": "code",
   "execution_count": null,
   "id": "1e65d65a",
   "metadata": {},
   "outputs": [],
   "source": []
  }
 ],
 "metadata": {
  "kernelspec": {
   "display_name": "Python 3",
   "language": "python",
   "name": "python3"
  },
  "language_info": {
   "codemirror_mode": {
    "name": "ipython",
    "version": 3
   },
   "file_extension": ".py",
   "mimetype": "text/x-python",
   "name": "python",
   "nbconvert_exporter": "python",
   "pygments_lexer": "ipython3",
   "version": "3.13.2"
  }
 },
 "nbformat": 4,
 "nbformat_minor": 5
}
