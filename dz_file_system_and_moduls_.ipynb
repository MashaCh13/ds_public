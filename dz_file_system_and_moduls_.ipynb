{
 "cells": [
  {
   "cell_type": "code",
   "execution_count": 12,
   "metadata": {},
   "outputs": [],
   "source": [
    "import json\n",
    "import os"
   ]
  },
  {
   "cell_type": "code",
   "execution_count": 11,
   "metadata": {},
   "outputs": [],
   "source": [
    "file = open(r'purchase_log.txt', 'r', encoding='utf-8')\n",
    "file.readline()\n",
    "purchases=dict()\n",
    "for i in file:\n",
    "    purchases[i.split(',')[0].split(':')[1].strip('\" ')] = i.split(',')[1].split(':')[1].strip(' \"}\\n')\n",
    "file.close()\n",
    "\n",
    "purchases"
   ]
  },
  {
   "cell_type": "code",
   "execution_count": null,
   "metadata": {},
   "outputs": [],
   "source": [
    "with open(r'purchase_log.txt', 'r', encoding='utf-8') as file:\n",
    "    purchases = dict()\n",
    "    next(file)\n",
    "    for line in file:\n",
    "        dict1 = json.loads(line.strip())\n",
    "        purchases.update({dict1['user_id']: dict1['category']})\n",
    "\n",
    "purchases"
   ]
  },
  {
   "cell_type": "code",
   "execution_count": null,
   "metadata": {},
   "outputs": [],
   "source": [
    "with open(r'visit_log.csv', 'r', encoding='utf-8') as file_from:\n",
    "    next(file_from)\n",
    "    with open(r'funnel.csv', 'w') as file_to:\n",
    "        for stroka in file_from:\n",
    "            try:\n",
    "                file_to.write(f\"{stroka.strip()},{purchases[stroka.strip().split(',')[0]]}\\n\")\n",
    "            except:\n",
    "                pass"
   ]
  },
  {
   "cell_type": "code",
   "execution_count": null,
   "metadata": {},
   "outputs": [],
   "source": [
    "with open(r'visit_log.csv', 'r', encoding='utf-8') as file_from:\n",
    "    next(file_from)\n",
    "    with open(r'funnel.csv', 'w') as file_to:\n",
    "        for stroka in file_from:\n",
    "            if stroka.strip().split(',')[0] in purchases.keys():\n",
    "                file_to.write(f'{stroka.strip()},{purchases[stroka.strip().split(',')[0]]}\\n')"
   ]
  },
  {
   "cell_type": "code",
   "execution_count": null,
   "metadata": {},
   "outputs": [],
   "source": []
  }
 ],
 "metadata": {
  "kernelspec": {
   "display_name": "Python 3",
   "language": "python",
   "name": "python3"
  },
  "language_info": {
   "codemirror_mode": {
    "name": "ipython",
    "version": 3
   },
   "file_extension": ".py",
   "mimetype": "text/x-python",
   "name": "python",
   "nbconvert_exporter": "python",
   "pygments_lexer": "ipython3",
   "version": "3.13.1"
  }
 },
 "nbformat": 4,
 "nbformat_minor": 2
}
