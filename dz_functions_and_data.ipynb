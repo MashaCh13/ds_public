{
 "cells": [
  {
   "cell_type": "code",
   "execution_count": 33,
   "metadata": {},
   "outputs": [],
   "source": [
    "import pandas as pd\n",
    "import matplotlib.pyplot as plt"
   ]
  },
  {
   "cell_type": "markdown",
   "metadata": {},
   "source": [
    "Задание 1\n",
    "\n",
    "Напишите функцию, которая классифицирует фильмы из материалов занятия по правилам:\n",
    "\n",
    "оценка 2 и ниже — низкий рейтинг;\n",
    "\n",
    "оценка 4 и ниже — средний рейтинг;\n",
    "\n",
    "оценка 4.5 и 5 — высокий рейтинг.\n",
    "\n",
    "Результат классификации запишите в столбец class."
   ]
  },
  {
   "cell_type": "code",
   "execution_count": 20,
   "metadata": {},
   "outputs": [
    {
     "data": {
      "text/html": [
       "<div>\n",
       "<style scoped>\n",
       "    .dataframe tbody tr th:only-of-type {\n",
       "        vertical-align: middle;\n",
       "    }\n",
       "\n",
       "    .dataframe tbody tr th {\n",
       "        vertical-align: top;\n",
       "    }\n",
       "\n",
       "    .dataframe thead th {\n",
       "        text-align: right;\n",
       "    }\n",
       "</style>\n",
       "<table border=\"1\" class=\"dataframe\">\n",
       "  <thead>\n",
       "    <tr style=\"text-align: right;\">\n",
       "      <th></th>\n",
       "      <th>userId</th>\n",
       "      <th>movieId</th>\n",
       "      <th>rating</th>\n",
       "      <th>timestamp</th>\n",
       "      <th>class</th>\n",
       "    </tr>\n",
       "  </thead>\n",
       "  <tbody>\n",
       "    <tr>\n",
       "      <th>0</th>\n",
       "      <td>1.0</td>\n",
       "      <td>31.0</td>\n",
       "      <td>2.5</td>\n",
       "      <td>1.260759e+09</td>\n",
       "      <td>средний рейтинг</td>\n",
       "    </tr>\n",
       "    <tr>\n",
       "      <th>1</th>\n",
       "      <td>1.0</td>\n",
       "      <td>1029.0</td>\n",
       "      <td>3.0</td>\n",
       "      <td>1.260759e+09</td>\n",
       "      <td>средний рейтинг</td>\n",
       "    </tr>\n",
       "    <tr>\n",
       "      <th>2</th>\n",
       "      <td>1.0</td>\n",
       "      <td>1061.0</td>\n",
       "      <td>3.0</td>\n",
       "      <td>1.260759e+09</td>\n",
       "      <td>средний рейтинг</td>\n",
       "    </tr>\n",
       "    <tr>\n",
       "      <th>3</th>\n",
       "      <td>1.0</td>\n",
       "      <td>1129.0</td>\n",
       "      <td>2.0</td>\n",
       "      <td>1.260759e+09</td>\n",
       "      <td>низкий рейтинг</td>\n",
       "    </tr>\n",
       "    <tr>\n",
       "      <th>4</th>\n",
       "      <td>1.0</td>\n",
       "      <td>1172.0</td>\n",
       "      <td>4.0</td>\n",
       "      <td>1.260759e+09</td>\n",
       "      <td>средний рейтинг</td>\n",
       "    </tr>\n",
       "    <tr>\n",
       "      <th>5</th>\n",
       "      <td>1.0</td>\n",
       "      <td>1263.0</td>\n",
       "      <td>2.0</td>\n",
       "      <td>1.260759e+09</td>\n",
       "      <td>низкий рейтинг</td>\n",
       "    </tr>\n",
       "    <tr>\n",
       "      <th>6</th>\n",
       "      <td>1.0</td>\n",
       "      <td>1287.0</td>\n",
       "      <td>2.0</td>\n",
       "      <td>1.260759e+09</td>\n",
       "      <td>низкий рейтинг</td>\n",
       "    </tr>\n",
       "  </tbody>\n",
       "</table>\n",
       "</div>"
      ],
      "text/plain": [
       "   userId  movieId  rating     timestamp            class\n",
       "0     1.0     31.0     2.5  1.260759e+09  средний рейтинг\n",
       "1     1.0   1029.0     3.0  1.260759e+09  средний рейтинг\n",
       "2     1.0   1061.0     3.0  1.260759e+09  средний рейтинг\n",
       "3     1.0   1129.0     2.0  1.260759e+09   низкий рейтинг\n",
       "4     1.0   1172.0     4.0  1.260759e+09  средний рейтинг\n",
       "5     1.0   1263.0     2.0  1.260759e+09   низкий рейтинг\n",
       "6     1.0   1287.0     2.0  1.260759e+09   низкий рейтинг"
      ]
     },
     "execution_count": 20,
     "metadata": {},
     "output_type": "execute_result"
    }
   ],
   "source": [
    "def estimate_movies(row):\n",
    "    if row['rating']<=2:\n",
    "        row['class'] = 'низкий рейтинг'\n",
    "    elif row['rating']<=4:\n",
    "        row['class'] = 'средний рейтинг'\n",
    "    elif row['rating']<=5:\n",
    "        row['class'] = 'высокий рейтинг'\n",
    "    else:\n",
    "        row['class'] = ''\n",
    "        \n",
    "    return row\n",
    "\n",
    "ratings = pd.read_csv('ratings.csv')\n",
    "ratings_ = ratings.apply(estimate_movies, axis=1)\n",
    "ratings_.head(7)"
   ]
  },
  {
   "cell_type": "markdown",
   "metadata": {},
   "source": [
    "Задание 2\n",
    "Используйте файл keywords.csv.\n",
    "\n",
    "Нужно написать гео-классификатор, который каждой строке сможет выставить географическую принадлежность определённому региону. \n",
    "Т. е. если поисковый запрос содержит название города региона, то в столбце ‘region’ пишется название этого региона. \n",
    "Если поисковый запрос не содержит названия города, то ставим ‘undefined’.\n",
    "\n",
    "Правила распределения по регионам Центр, Северо-Запад и Дальний Восток:\n",
    "\n",
    "geo_data = {\n",
    "\n",
    "'Центр': ['москва', 'тула', 'ярославль'],\n",
    "\n",
    "'Северо-Запад': ['петербург', 'псков', 'мурманск'],\n",
    "\n",
    "'Дальний Восток': ['владивосток', 'сахалин', 'хабаровск']\n",
    "}\n",
    "\n",
    "Результат классификации запишите в отдельный столбец region."
   ]
  },
  {
   "cell_type": "code",
   "execution_count": 53,
   "metadata": {},
   "outputs": [],
   "source": [
    "def set_region(row):\n",
    "    row['region'] = 'udefined'\n",
    "    for i in row['keyword'].split():\n",
    "        if i in ['москва', 'тула', 'ярославль']:\n",
    "            row['region'] = 'Центр'\n",
    "        elif i in ['петербург', 'псков', 'мурманск']:\n",
    "            row['region'] = 'Северо-Запад'\n",
    "        elif i in ['владивосток', 'сахалин', 'хабаровск']:\n",
    "            row['region'] = 'Дальний Восток'  \n",
    "   \n",
    "    return row\n",
    "\n",
    "keywords = pd.read_csv('keywords.csv')\n",
    "keywords_ = keywords.apply(set_region, axis=1)"
   ]
  },
  {
   "cell_type": "markdown",
   "metadata": {},
   "source": [
    "Задание 3 (бонусное)\n",
    "\n",
    "Есть мнение, что раньше снимали настоящее кино, не то что сейчас. Ваша задача — проверить это утверждение, используя файлы с рейтингами фильмов из прошлого домашнего занятия: файл movies.csv и ratings.csv из базы. Нужно проверить, верно ли, что с ростом года выпуска фильма его средний рейтинг становится ниже.\n",
    "\n",
    "Вы не будете затрагивать субьективные факторы выставления этих рейтингов, а пройдётесь по алгоритму:\n",
    "\n",
    "В переменную years запишите список из всех годов с 1950 по 2010 года.\n",
    "\n",
    "Напишите функцию production_year, которая каждой строке из названия фильма выставляет год выпуска. Не все названия фильмов содержат год выпуска в одинаковом формате, поэтому используйте алгоритм:\n",
    "\n",
    "для каждой строки пройдите по всем годам списка years;\n",
    "если номер года присутствует в названии фильма, то функция возвращает этот год, как год выпуска;\n",
    "если ни один из номеров года списка years не встретился в названии фильма, то возвращается 1900 год.\n",
    "Запишите год выпуска фильма по алгоритму пункта 2 в новый столбец ‘year’.\n",
    "\n",
    "Посчитайте средний рейтинг всех фильмов для каждого значения столбца ‘year’ и отсортируйте результат по убыванию рейтинга."
   ]
  },
  {
   "cell_type": "code",
   "execution_count": 15,
   "metadata": {},
   "outputs": [],
   "source": [
    "def get_year(row):\n",
    "    years = list(range(1950, 2025))\n",
    "    try:\n",
    "        if int(row['title'].split('(')[-1][:-1]) in years:\n",
    "            row['year'] = int(row['title'].split('(')[-1][:-1])\n",
    "        else:\n",
    "            row['year'] = 1900\n",
    "    except:\n",
    "        row['year'] = 1900\n",
    "        \n",
    "    return row"
   ]
  },
  {
   "cell_type": "code",
   "execution_count": 22,
   "metadata": {},
   "outputs": [],
   "source": [
    "movies = pd.read_csv('movies.csv')\n",
    "ratings = pd.read_csv('ratings.csv')"
   ]
  },
  {
   "cell_type": "code",
   "execution_count": null,
   "metadata": {},
   "outputs": [],
   "source": [
    "films = pd.merge(movies.apply(get_year, axis=1), ratings, on = 'movieId', how = 'inner')\n",
    "films_ = films.groupby('year', as_index=False)\\\n",
    "    .agg(avg_rating = ('rating', 'mean'), median_rating = ('rating', 'median'))\\\n",
    "    .sort_values('avg_rating', ascending=False)"
   ]
  },
  {
   "cell_type": "code",
   "execution_count": 36,
   "metadata": {},
   "outputs": [
    {
     "data": {
      "text/plain": [
       "[<matplotlib.lines.Line2D at 0x288e9f55810>]"
      ]
     },
     "execution_count": 36,
     "metadata": {},
     "output_type": "execute_result"
    },
    {
     "data": {
      "image/png": "[encoded data removed]",
      "text/plain": [
       "<Figure size 640x480 with 1 Axes>"
      ]
     },
     "metadata": {},
     "output_type": "display_data"
    }
   ],
   "source": [
    "plt.plot(films_['year'], films_['avg_rating'])"
   ]
  },
  {
   "cell_type": "markdown",
   "metadata": {},
   "source": [
    "Вообщем раньше лучше фильмы снимали по ходу......."
   ]
  },
  {
   "cell_type": "code",
   "execution_count": null,
   "metadata": {},
   "outputs": [],
   "source": []
  }
 ],
 "metadata": {
  "kernelspec": {
   "display_name": "Python 3",
   "language": "python",
   "name": "python3"
  },
  "language_info": {
   "codemirror_mode": {
    "name": "ipython",
    "version": 3
   },
   "file_extension": ".py",
   "mimetype": "text/x-python",
   "name": "python",
   "nbconvert_exporter": "python",
   "pygments_lexer": "ipython3",
   "version": "3.13.2"
  }
 },
 "nbformat": 4,
 "nbformat_minor": 2
}
